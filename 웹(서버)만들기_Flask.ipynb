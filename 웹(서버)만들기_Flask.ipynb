{
 "cells": [
  {
   "cell_type": "markdown",
   "metadata": {},
   "source": [
    "# 서버만들기(Flask)"
   ]
  },
  {
   "cell_type": "code",
   "execution_count": 11,
   "metadata": {},
   "outputs": [],
   "source": [
    "import cv2\n",
    "import numpy as np\n",
    "import subprocess as sp\n",
    "from matplotlib import pyplot as plt"
   ]
  },
  {
   "cell_type": "code",
   "execution_count": 12,
   "metadata": {},
   "outputs": [],
   "source": [
    "def chromakey(img):\n",
    "    hsv = cv2.cvtColor(img, cv2.COLOR_BGR2HSV)\n",
    "    patch = hsv[0:20, 0:20, :]\n",
    "    minH = np.min(patch[:,:,0]) * 0.9\n",
    "    maxH = np.max(patch[:,:,0]) * 1.1\n",
    "    minS = np.min(patch[:,:,1]) * 0.9\n",
    "    maxS = np.max(patch[:,:,1]) * 1.1\n",
    "    h = hsv[:,:,0]\n",
    "    s = hsv[:,:,1]\n",
    "    dest = img.copy()\n",
    "    for r in range(img.shape[0]):\n",
    "         for c in range(img.shape[1]) :\n",
    "            if h[r,c] >= minH and h[r,c] <= maxH and   s[r,c] >= minS  and s[r,c] <= maxS : \n",
    "                dest[r,c, :] = [0,0,0]         \n",
    "            else :\n",
    "                dest[r,c, :] =  img[r,c,:]\n",
    "    return dest            "
   ]
  },
  {
   "cell_type": "code",
   "execution_count": 2,
   "metadata": {},
   "outputs": [
    {
     "name": "stdout",
     "output_type": "stream",
     "text": [
      "Overwriting server.py\n"
     ]
    }
   ],
   "source": [
    "%%writefile server.py\n",
    "# 서버 만들기\n",
    "# 장고랑 비슷한 느낌\n",
    "# localhost:8000 가면 hello~ 보임\n",
    "\n",
    "from flask import Flask, request\n",
    "\n",
    "app = Flask(__name__)\n",
    "\n",
    "@app.route('/')\n",
    "def index():\n",
    "    return \"안녕하세요^^\"\n",
    "\n",
    "@app.route('/upload')\n",
    "def upload():\n",
    "    return \"upload~~~!!\"\n",
    "\n",
    "if __name__ == '__main__':\n",
    "    app.run(host='0.0.0.0', debug=True, port=8000)"
   ]
  },
  {
   "cell_type": "code",
   "execution_count": 3,
   "metadata": {},
   "outputs": [],
   "source": [
    "sever = sp.Popen('python server.py',shell = True)"
   ]
  },
  {
   "cell_type": "code",
   "execution_count": 5,
   "metadata": {},
   "outputs": [
    {
     "name": "stdout",
     "output_type": "stream",
     "text": [
      "Overwriting server.py\n"
     ]
    }
   ],
   "source": [
    "%%writefile server.py\n",
    "# 서버 만들기\n",
    "# 장고랑 비슷한 느낌\n",
    "# localhost:8000 가면 hello~ 보임\n",
    "# server.py라는 데에서 만드는 것\n",
    "\n",
    "\n",
    "import cv2\n",
    "import numpy as np\n",
    "from flask import Flask, request\n",
    "\n",
    "app = Flask(__name__)\n",
    "\n",
    "@app.route('/')\n",
    "def index():\n",
    "    html = \"\"\"\n",
    "        <form action=/upload method=post enctype=\"multipart/form-data\">\n",
    "            <input type=file name=file1><input type=submit value=\"전송\">\n",
    "        </form>\n",
    "    \"\"\"\n",
    "    return html\n",
    "\n",
    "@app.route('/upload', methods=[\"post\"])\n",
    "def upload():\n",
    "    f = request.files['file1']\n",
    "    filename=\"./static/\" + f.filename # static이라는 폴더에 저장할 것이다.\n",
    "    f.save(filename)\n",
    "    \n",
    "    img = cv2.imread(filename)\n",
    "    img = cv2.resize(img, dsize=(320,240))\n",
    "    cv2.imwrite(filename, img)\n",
    "  \n",
    "    return \"<img src=/static/\" + f.filename + \">\"\n",
    "\n",
    "\n",
    "\n",
    "if __name__ == '__main__':\n",
    "    app.run(host='0.0.0.0', debug=True, port=8000)"
   ]
  },
  {
   "cell_type": "code",
   "execution_count": 21,
   "metadata": {},
   "outputs": [
    {
     "name": "stdout",
     "output_type": "stream",
     "text": [
      "Overwriting server.py\n"
     ]
    }
   ],
   "source": [
    "%%writefile server.py\n",
    "# 서버 만들기\n",
    "# 장고랑 비슷한 느낌\n",
    "# localhost:8000 가면 hello~ 보임\n",
    "# server.py라는 데에서 만드는 것\n",
    "\n",
    "\n",
    "import cv2\n",
    "import numpy as np\n",
    "from flask import Flask, request\n",
    "import datetime\n",
    "\n",
    "app = Flask(__name__)\n",
    "\n",
    "def chromakey(img, background):\n",
    "    hsv = cv2.cvtColor(img, cv2.COLOR_BGR2HSV)\n",
    "    patch = hsv[0:20, 0:20, :]\n",
    "    minH = np.min(patch[:,:,0]) * 0.9\n",
    "    maxH = np.max(patch[:,:,0]) * 1.1\n",
    "    minS = np.min(patch[:,:,1]) * 0.9\n",
    "    maxS = np.max(patch[:,:,1]) * 1.1\n",
    "    h = hsv[:,:,0]\n",
    "    s = hsv[:,:,1]\n",
    "    dest = img.copy()\n",
    "    for r in range(img.shape[0]):\n",
    "         for c in range(img.shape[1]) :\n",
    "            if h[r,c] >= minH and h[r,c] <= maxH and   s[r,c] >= minS  and s[r,c] <= maxS : \n",
    "                dest[r,c, :] = background[r,c,:]         \n",
    "            else :\n",
    "                dest[r,c, :] =  img[r,c,:]\n",
    "    return dest\n",
    "\n",
    "@app.route('/')\n",
    "def index():\n",
    "    html = \"\"\"\n",
    "        <form action=/upload method=post enctype=\"multipart/form-data\">\n",
    "            <input type=\"file\" name='file1' accept=\"images/*\" capture=\"camera\">\n",
    "            <input type=file name=file1><input type=submit value=\"전송\">\n",
    "        </form>\n",
    "    \"\"\"\n",
    "    return html\n",
    "\n",
    "@app.route('/upload', methods=[\"post\"])\n",
    "def upload():\n",
    "    f = request.files['file1']\n",
    "    filename=\"./static/\" + f.filename # static이라는 폴더에 저장할 것이다.\n",
    "    f.save(filename)\n",
    "    \n",
    "\n",
    "    img = cv2.imread(filename)\n",
    "    img = cv2.resize(img, dsize=(320,240))\n",
    "    \n",
    "    img1 = cv2.imread('sun.jpg')\n",
    "    img1 = cv2.resize(img1, dsize=(320,240))\n",
    "  \n",
    "    img = chromakey(img, img1)\n",
    "    cv2.imwrite(filename, img)\n",
    "\n",
    "    return \"<img src=/static/\" + f.filename + \"?\" + datetime.datetime.now().strftime('%H%M%S') + \">\"\n",
    "\n",
    "      \n",
    "if __name__ == '__main__':\n",
    "    app.run(host='0.0.0.0', debug=True, port=8000)"
   ]
  },
  {
   "cell_type": "code",
   "execution_count": null,
   "metadata": {},
   "outputs": [],
   "source": []
  }
 ],
 "metadata": {
  "kernelspec": {
   "display_name": "Python 3",
   "language": "python",
   "name": "python3"
  },
  "language_info": {
   "codemirror_mode": {
    "name": "ipython",
    "version": 3
   },
   "file_extension": ".py",
   "mimetype": "text/x-python",
   "name": "python",
   "nbconvert_exporter": "python",
   "pygments_lexer": "ipython3",
   "version": "3.7.6"
  },
  "toc": {
   "base_numbering": 1,
   "nav_menu": {},
   "number_sections": true,
   "sideBar": true,
   "skip_h1_title": false,
   "title_cell": "Table of Contents",
   "title_sidebar": "Contents",
   "toc_cell": false,
   "toc_position": {},
   "toc_section_display": true,
   "toc_window_display": false
  }
 },
 "nbformat": 4,
 "nbformat_minor": 4
}
