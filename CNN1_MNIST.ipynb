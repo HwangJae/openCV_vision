{
 "cells": [
  {
   "cell_type": "code",
   "execution_count": 37,
   "metadata": {},
   "outputs": [],
   "source": [
    "from sklearn import datasets\n",
    "import numpy.linalg as lin\n",
    "from sklearn.model_selection import train_test_split\n",
    "import numpy as np\n",
    "import matplotlib.pyplot as plt\n",
    "from keras.datasets import mnist, fashion_mnist\n",
    "from keras import models\n",
    "from keras.utils import to_categorical\n",
    "from keras.models import Sequential\n",
    "from keras import optimizers\n",
    "from keras.layers import Dense, Activation, Flatten, Conv2D, MaxPooling2D, BatchNormalization, Dropout\n",
    "from matplotlib import pyplot as plt\n",
    "from sklearn.datasets import fetch_olivetti_faces\n",
    "import cv2\n",
    "from sklearn.model_selection import train_test_split\n",
    "import keras.utils as utils"
   ]
  },
  {
   "cell_type": "markdown",
   "metadata": {},
   "source": [
    "# MNIST 기초\n",
    "- inverse를 통한 mnist 학습 (방정식 풀기)\n",
    "- 신경망을 통한 mnist 합습\n",
    "- CNN통한 mnist 학습\n",
    "- fashion mnist, face db 테스트\n",
    "- web 연동(한글, 스케치 인식)"
   ]
  },
  {
   "cell_type": "code",
   "execution_count": 56,
   "metadata": {},
   "outputs": [
    {
     "name": "stdout",
     "output_type": "stream",
     "text": [
      "(60000, 28, 28)\n"
     ]
    },
    {
     "data": {
      "text/plain": [
       "<matplotlib.image.AxesImage at 0x20873b41bc8>"
      ]
     },
     "execution_count": 56,
     "metadata": {},
     "output_type": "execute_result"
    },
    {
     "data": {
      "image/png": "[encoded data removed]",
      "text/plain": [
       "<Figure size 432x288 with 1 Axes>"
      ]
     },
     "metadata": {
      "needs_background": "light"
     },
     "output_type": "display_data"
    }
   ],
   "source": [
    "(X_train, y_train), (X_test, y_test) = mnist.load_data()\n",
    "\n",
    "# train = 6만장 / test 1만장\n",
    "# label은 0 ~ 9 까지\n",
    "# 28 x 28의 픽셀\n",
    "\n",
    "print(X_train.shape)\n",
    "plt.imshow(X_train[6], cmap = 'gray')"
   ]
  },
  {
   "cell_type": "code",
   "execution_count": 58,
   "metadata": {},
   "outputs": [
    {
     "name": "stdout",
     "output_type": "stream",
     "text": [
      "(10000, 28, 28)\n",
      "[[  0   0   0   0   0   0   0   0   0   0   0   0   0   0   0   0   0   0\n",
      "    0   0   0   0   0   0   0   0   0   0]\n",
      " [  0   0   0   0   0   0   0   0   0   0   0   0   0   0   0   0   0   0\n",
      "    0   0   0   0   0   0   0   0   0   0]\n",
      " [  0   0   0   0   0   0   0   0   0   0   0   0   0   0   0   0   0   0\n",
      "    0   0   0   0   0   0   0   0   0   0]\n",
      " [  0   0   0   0   0   0   0   0   0   0   0   0   0   0   0   0   0   0\n",
      "    0   0   0   0   0   0   0   0   0   0]\n",
      " [  0   0   0   0   0   0   0   0   0   0   0   0   0   0   0   0   0   0\n",
      "    0   0   0   0   0   0   0   0   0   0]\n",
      " [  0   0   0   0   0   0   0   0   0  22 192 134  32   0   0   0   0   0\n",
      "    0   0   0  15  77   5   0   0   0   0]\n",
      " [  0   0   0   0   0   0   0   0  17 235 250 169   0   0   0   0   0   0\n",
      "    0   0  15 220 241  37   0   0   0   0]\n",
      " [  0   0   0   0   0   0   0  20 189 253 147   0   0   0   0   0   0   0\n",
      "    0   0 139 253 100   0   0   0   0   0]\n",
      " [  0   0   0   0   0   0   0  70 253 253  21   0   0   0   0   0   0   0\n",
      "    0  43 254 173  13   0   0   0   0   0]\n",
      " [  0   0   0   0   0   0  22 153 253  96   0   0   0   0   0   0   0   0\n",
      "   43 231 254  92   0   0   0   0   0   0]\n",
      " [  0   0   0   0   0   0 163 255 204  11   0   0   0   0   0   0   0   0\n",
      "  104 254 158   0   0   0   0   0   0   0]\n",
      " [  0   0   0   0   0   0 162 253 178   5   0   0   0   0   0   0   9 131\n",
      "  237 253   0   0   0   0   0   0   0   0]\n",
      " [  0   0   0   0   0   0 162 253 253 191 175  70  70  70  70 133 197 253\n",
      "  253 169   0   0   0   0   0   0   0   0]\n",
      " [  0   0   0   0   0   0  51 228 253 253 254 253 253 253 253 254 253 253\n",
      "  219  35   0   0   0   0   0   0   0   0]\n",
      " [  0   0   0   0   0   0   0  17  65 137 254 232 137 137 137  44 253 253\n",
      "  161   0   0   0   0   0   0   0   0   0]\n",
      " [  0   0   0   0   0   0   0   0   0   0   0   0   0   0   0  34 254 206\n",
      "   21   0   0   0   0   0   0   0   0   0]\n",
      " [  0   0   0   0   0   0   0   0   0   0   0   0   0   0   0 160 253  69\n",
      "    0   0   0   0   0   0   0   0   0   0]\n",
      " [  0   0   0   0   0   0   0   0   0   0   0   0   0   0  85 254 241  50\n",
      "    0   0   0   0   0   0   0   0   0   0]\n",
      " [  0   0   0   0   0   0   0   0   0   0   0   0   0   0 158 254 165   0\n",
      "    0   0   0   0   0   0   0   0   0   0]\n",
      " [  0   0   0   0   0   0   0   0   0   0   0   0   0   0 231 244  50   0\n",
      "    0   0   0   0   0   0   0   0   0   0]\n",
      " [  0   0   0   0   0   0   0   0   0   0   0   0   0 104 254 232   0   0\n",
      "    0   0   0   0   0   0   0   0   0   0]\n",
      " [  0   0   0   0   0   0   0   0   0   0   0   0   0 208 253 157   0  13\n",
      "   30   0   0   0   0   0   0   0   0   0]\n",
      " [  0   0   0   0   0   0   0   0   0   0   0   0   0 208 253 154  91 204\n",
      "  161   0   0   0   0   0   0   0   0   0]\n",
      " [  0   0   0   0   0   0   0   0   0   0   0   0   0 208 253 254 253 154\n",
      "   29   0   0   0   0   0   0   0   0   0]\n",
      " [  0   0   0   0   0   0   0   0   0   0   0   0   0  61 190 128  23   6\n",
      "    0   0   0   0   0   0   0   0   0   0]\n",
      " [  0   0   0   0   0   0   0   0   0   0   0   0   0   0   0   0   0   0\n",
      "    0   0   0   0   0   0   0   0   0   0]\n",
      " [  0   0   0   0   0   0   0   0   0   0   0   0   0   0   0   0   0   0\n",
      "    0   0   0   0   0   0   0   0   0   0]\n",
      " [  0   0   0   0   0   0   0   0   0   0   0   0   0   0   0   0   0   0\n",
      "    0   0   0   0   0   0   0   0   0   0]]\n",
      "(60000,)\n"
     ]
    },
    {
     "data": {
      "image/png": "[encoded data removed]",
      "text/plain": [
       "<Figure size 432x288 with 1 Axes>"
      ]
     },
     "metadata": {
      "needs_background": "light"
     },
     "output_type": "display_data"
    }
   ],
   "source": [
    "print(X_test.shape)\n",
    "plt.imshow(X_test[6], cmap = 'gray')\n",
    "\n",
    "print(X_test[6])\n",
    "print(y_train.shape)\n",
    "# print(y_train)\n",
    "# print(y_test)"
   ]
  },
  {
   "cell_type": "markdown",
   "metadata": {},
   "source": [
    "# inverse로 풀기 -> 1D 로 바꿔야함"
   ]
  },
  {
   "cell_type": "code",
   "execution_count": 34,
   "metadata": {},
   "outputs": [
    {
     "name": "stdout",
     "output_type": "stream",
     "text": [
      "(60000, 784)\n",
      "(10000, 784)\n"
     ]
    }
   ],
   "source": [
    "# 28 X 28 = 784\n",
    "\n",
    "X_train = X_train.reshape((X_train.shape[0], 784))\n",
    "X_test = X_test.reshape((X_test.shape[0], 784))\n",
    "\n",
    "print(X_train.shape)\n",
    "print(X_test.shape)"
   ]
  },
  {
   "cell_type": "markdown",
   "metadata": {},
   "source": [
    "# 원핫인코딩"
   ]
  },
  {
   "cell_type": "code",
   "execution_count": 35,
   "metadata": {},
   "outputs": [],
   "source": [
    "y_train_e = to_categorical(y_train)\n",
    "y_test_e = to_categorical(y_test)"
   ]
  },
  {
   "cell_type": "markdown",
   "metadata": {},
   "source": [
    "## 1. 역행렬(inverse)을 이용한 학습\n",
    "\n",
    "- y = wx + b\n",
    "- A 행렬 만들기 -> 60000 x 785 크기의 행렬\n",
    "- W = inv(A) * Y   ->   Y 는 60000 x 10(원핫인코딩) ,  W = 785 x 10 \n",
    "- predict   [x 1] * W , where"
   ]
  },
  {
   "cell_type": "code",
   "execution_count": 36,
   "metadata": {},
   "outputs": [
    {
     "name": "stdout",
     "output_type": "stream",
     "text": [
      "(60000, 785)\n"
     ]
    }
   ],
   "source": [
    "# bias 텁을 뒤에다가 쭉 붙이는 거 (1 붙이기)\n",
    "\n",
    "A = np.hstack((X_train, np.ones((60000,1)) ))\n",
    "\n",
    "print(A.shape)"
   ]
  },
  {
   "cell_type": "code",
   "execution_count": 37,
   "metadata": {},
   "outputs": [
    {
     "name": "stdout",
     "output_type": "stream",
     "text": [
      "(785, 10)\n",
      "[[ 7.44778176e-17  3.08116485e-17  6.24517735e-17 ... -1.88247216e-17\n",
      "  -9.68761668e-17  2.74183832e-17]\n",
      " [-2.02652642e-15 -8.88043361e-15 -1.23469953e-14 ...  9.01778765e-15\n",
      "   1.44453949e-14  4.97795720e-15]\n",
      " [ 3.89572462e-15  8.31633536e-15  8.79628286e-15 ... -6.90318037e-15\n",
      "  -1.11422250e-14 -2.33884532e-15]\n",
      " ...\n",
      " [ 0.00000000e+00  0.00000000e+00  0.00000000e+00 ...  0.00000000e+00\n",
      "   0.00000000e+00  0.00000000e+00]\n",
      " [ 0.00000000e+00  0.00000000e+00  0.00000000e+00 ...  0.00000000e+00\n",
      "   0.00000000e+00  0.00000000e+00]\n",
      " [ 1.57799659e-01  2.41326501e-01  4.98284745e-02 ...  1.41540555e-01\n",
      "  -1.23002061e-01  4.55121243e-02]]\n",
      "Wall time: 5.59 s\n"
     ]
    }
   ],
   "source": [
    "%%time\n",
    "W = np.matmul(lin.pinv(A), y_train_e)\n",
    "print(W.shape)\n",
    "print(W)"
   ]
  },
  {
   "cell_type": "code",
   "execution_count": 38,
   "metadata": {},
   "outputs": [
    {
     "name": "stdout",
     "output_type": "stream",
     "text": [
      "(785, 10)\n",
      "(785,)\n"
     ]
    }
   ],
   "source": [
    "# W는 b를 포함한 것.\n",
    "print(W.shape)\n",
    "print(W[:,0].shape)"
   ]
  },
  {
   "cell_type": "code",
   "execution_count": 44,
   "metadata": {},
   "outputs": [
    {
     "name": "stdout",
     "output_type": "stream",
     "text": [
      "[[ 2.70655230e-02  5.57313119e-03  1.03302659e-01 ...  9.07462532e-01\n",
      "  -8.18155262e-02  8.16857901e-02]\n",
      " [ 2.21591438e-01 -2.28150941e-01  8.29815036e-01 ... -2.76097536e-02\n",
      "  -3.19366512e-02 -8.76217553e-02]\n",
      " [ 4.16229954e-02  7.48610962e-01  4.39850924e-02 ...  5.70045212e-02\n",
      "  -6.22603850e-02  1.88827340e-02]\n",
      " ...\n",
      " [-2.44776825e-01 -3.88461482e-02 -4.20549102e-03 ...  1.73839006e-01\n",
      "   1.63249824e-01  2.78782658e-01]\n",
      " [-6.16243161e-02  1.62818828e-02 -6.72047788e-02 ... -8.93262296e-04\n",
      "   4.44767743e-01 -2.03233025e-01]\n",
      " [ 7.01823348e-02 -1.36509207e-01  5.87715572e-02 ...  2.21727977e-02\n",
      "  -1.22611134e-01 -4.09390153e-02]]\n",
      "(10000, 10)\n",
      "[7 2 1 ... 4 5 6]\n",
      "(10000,)\n",
      "0.8603\n"
     ]
    },
    {
     "data": {
      "image/png": "[encoded data removed]",
      "text/plain": [
       "<Figure size 432x288 with 1 Axes>"
      ]
     },
     "metadata": {
      "needs_background": "light"
     },
     "output_type": "display_data"
    }
   ],
   "source": [
    "T = np.hstack((X_test, np.ones((10000,1)) ))\n",
    "p_ = np.matmul(T, W)\n",
    "\n",
    "print(p_)\n",
    "print(p_.shape)\n",
    "\n",
    "y_ = np.argmax(p_, axis = 1)   # 확률값으로 리턴 나옴\n",
    "\n",
    "print(y_)\n",
    "print(y_.shape)\n",
    "\n",
    "plt.imshow(X_test[0,:].reshape(28, 28), cmap = 'gray')\n",
    "\n",
    "\n",
    "# 성능 평가 = 86% : linear로 풀어도 어느정도 성능이 나온다.\n",
    "print(np.mean( y_ == y_test ) )"
   ]
  },
  {
   "cell_type": "code",
   "execution_count": 17,
   "metadata": {},
   "outputs": [
    {
     "data": {
      "text/plain": [
       "array([2, 2, 1], dtype=int64)"
      ]
     },
     "execution_count": 17,
     "metadata": {},
     "output_type": "execute_result"
    }
   ],
   "source": [
    "a = np.array([[1,2,3], \n",
    "              [7,8,9], \n",
    "              [4,10,6]])\n",
    "\n",
    "np.argmax(a)\n",
    "np.argmax(a, axis = 1) # 각각의 행에서 최댓값을 리턴"
   ]
  },
  {
   "cell_type": "markdown",
   "metadata": {},
   "source": [
    "# 예측 값 확인해보기"
   ]
  },
  {
   "cell_type": "code",
   "execution_count": 19,
   "metadata": {},
   "outputs": [
    {
     "data": {
      "text/plain": [
       "<matplotlib.image.AxesImage at 0x2248000eec8>"
      ]
     },
     "execution_count": 19,
     "metadata": {},
     "output_type": "execute_result"
    },
    {
     "data": {
      "image/png": "[encoded data removed]",
      "text/plain": [
       "<Figure size 432x288 with 1 Axes>"
      ]
     },
     "metadata": {
      "needs_background": "light"
     },
     "output_type": "display_data"
    }
   ],
   "source": [
    "plt.imshow(X_test[0,:].reshape(28, 28), cmap = 'gray')"
   ]
  },
  {
   "cell_type": "code",
   "execution_count": 20,
   "metadata": {},
   "outputs": [
    {
     "data": {
      "text/plain": [
       "<matplotlib.image.AxesImage at 0x224ce5b73c8>"
      ]
     },
     "execution_count": 20,
     "metadata": {},
     "output_type": "execute_result"
    },
    {
     "data": {
      "image/png": "[encoded data removed]",
      "text/plain": [
       "<Figure size 432x288 with 1 Axes>"
      ]
     },
     "metadata": {
      "needs_background": "light"
     },
     "output_type": "display_data"
    }
   ],
   "source": [
    "plt.imshow(X_test[1,:].reshape(28, 28), cmap = 'gray')"
   ]
  },
  {
   "cell_type": "code",
   "execution_count": 21,
   "metadata": {},
   "outputs": [
    {
     "data": {
      "text/plain": [
       "<matplotlib.image.AxesImage at 0x22481068ec8>"
      ]
     },
     "execution_count": 21,
     "metadata": {},
     "output_type": "execute_result"
    },
    {
     "data": {
      "image/png": "[encoded data removed]",
      "text/plain": [
       "<Figure size 432x288 with 1 Axes>"
      ]
     },
     "metadata": {
      "needs_background": "light"
     },
     "output_type": "display_data"
    }
   ],
   "source": [
    "plt.imshow(X_test[2,:].reshape(28, 28), cmap = 'gray')"
   ]
  },
  {
   "cell_type": "markdown",
   "metadata": {},
   "source": [
    "# 소프트맥스 -> 작은건 더 작게 / 큰건 더 크게 하자는 뜻 => exp 함수 적용"
   ]
  },
  {
   "cell_type": "code",
   "execution_count": 45,
   "metadata": {},
   "outputs": [
    {
     "ename": "ValueError",
     "evalue": "This model has not yet been built. Build the model first by calling `build()` or calling `fit()` with some data, or specify an `input_shape` argument in the first layer(s) for automatic build.",
     "output_type": "error",
     "traceback": [
      "\u001b[1;31m---------------------------------------------------------------------------\u001b[0m",
      "\u001b[1;31mValueError\u001b[0m                                Traceback (most recent call last)",
      "\u001b[1;32m<ipython-input-45-c543120b7a30>\u001b[0m in \u001b[0;36m<module>\u001b[1;34m\u001b[0m\n\u001b[0;32m      3\u001b[0m \u001b[0mmodel\u001b[0m\u001b[1;33m.\u001b[0m\u001b[0mcompile\u001b[0m\u001b[1;33m(\u001b[0m\u001b[0mloss\u001b[0m \u001b[1;33m=\u001b[0m \u001b[1;34m'categorical_crossentropy'\u001b[0m\u001b[1;33m,\u001b[0m \u001b[0moptimizer\u001b[0m \u001b[1;33m=\u001b[0m \u001b[1;34m'adam'\u001b[0m\u001b[1;33m,\u001b[0m \u001b[0mmetrics\u001b[0m \u001b[1;33m=\u001b[0m \u001b[1;33m[\u001b[0m\u001b[1;34m'accuracy'\u001b[0m\u001b[1;33m]\u001b[0m\u001b[1;33m)\u001b[0m\u001b[1;33m\u001b[0m\u001b[1;33m\u001b[0m\u001b[0m\n\u001b[0;32m      4\u001b[0m \u001b[1;33m\u001b[0m\u001b[0m\n\u001b[1;32m----> 5\u001b[1;33m \u001b[0mmodel\u001b[0m\u001b[1;33m.\u001b[0m\u001b[0msummary\u001b[0m\u001b[1;33m(\u001b[0m\u001b[1;33m)\u001b[0m\u001b[1;33m\u001b[0m\u001b[1;33m\u001b[0m\u001b[0m\n\u001b[0m",
      "\u001b[1;32m~\\AppData\\Roaming\\Python\\Python37\\site-packages\\tensorflow\\python\\keras\\engine\\network.py\u001b[0m in \u001b[0;36msummary\u001b[1;34m(self, line_length, positions, print_fn)\u001b[0m\n\u001b[0;32m   1344\u001b[0m     \"\"\"\n\u001b[0;32m   1345\u001b[0m     \u001b[1;32mif\u001b[0m \u001b[1;32mnot\u001b[0m \u001b[0mself\u001b[0m\u001b[1;33m.\u001b[0m\u001b[0mbuilt\u001b[0m\u001b[1;33m:\u001b[0m\u001b[1;33m\u001b[0m\u001b[1;33m\u001b[0m\u001b[0m\n\u001b[1;32m-> 1346\u001b[1;33m       raise ValueError('This model has not yet been built. '\n\u001b[0m\u001b[0;32m   1347\u001b[0m                        \u001b[1;34m'Build the model first by calling `build()` or calling '\u001b[0m\u001b[1;33m\u001b[0m\u001b[1;33m\u001b[0m\u001b[0m\n\u001b[0;32m   1348\u001b[0m                        \u001b[1;34m'`fit()` with some data, or specify '\u001b[0m\u001b[1;33m\u001b[0m\u001b[1;33m\u001b[0m\u001b[0m\n",
      "\u001b[1;31mValueError\u001b[0m: This model has not yet been built. Build the model first by calling `build()` or calling `fit()` with some data, or specify an `input_shape` argument in the first layer(s) for automatic build."
     ]
    }
   ],
   "source": [
    "model = Sequential()\n",
    "model.add(Dense(10, activation = 'softmax'))\n",
    "model.compile(loss = 'categorical_crossentropy', optimizer = 'adam', metrics = ['accuracy'])\n",
    "\n",
    "model.summary()"
   ]
  },
  {
   "cell_type": "markdown",
   "metadata": {},
   "source": [
    "# 학습 시키기"
   ]
  },
  {
   "cell_type": "code",
   "execution_count": null,
   "metadata": {},
   "outputs": [],
   "source": [
    "# y는 원핫 인코딩 된 것을 주기\n",
    "# epochs - 전체 데이터 다 사용 10번 사용\n",
    "# 32개씩 데이터를 랜덤하게 뽑아서 학습시키겠다.  -> 32개씩 뽑아서 하고 웨이트 반영하고 ,,, \n",
    "# 전체 데이터 60000개 \n",
    "\n",
    "hist = model.fit(x = X_train, y = y_train_e, \n",
    "                epochs =10,\n",
    "                verbose = 1,\n",
    "                batch_size = 100)"
   ]
  },
  {
   "cell_type": "code",
   "execution_count": 48,
   "metadata": {},
   "outputs": [
    {
     "name": "stdout",
     "output_type": "stream",
     "text": [
      "Test loss: 2.9329237937927246\n",
      "Test accuracy: 0.9034000039100647\n"
     ]
    }
   ],
   "source": [
    "score = model.evaluate(X_test, y_test_e, verbose = 0)\n",
    "\n",
    "print('Test loss:', score[0])\n",
    "print('Test accuracy:', score[1])"
   ]
  },
  {
   "cell_type": "code",
   "execution_count": 51,
   "metadata": {},
   "outputs": [
    {
     "name": "stdout",
     "output_type": "stream",
     "text": [
      "(10000, 10)\n",
      "0.9034\n"
     ]
    }
   ],
   "source": [
    "p1 = model.predict(X_test)\n",
    "print(p1.shape)\n",
    "\n",
    "p1 = np.argmax(p1, axis = 1)  # 인덱스 값 뽑아내는 함수 argmax\n",
    " \n",
    "print(np.mean(p1 == y_test))"
   ]
  },
  {
   "cell_type": "code",
   "execution_count": 52,
   "metadata": {},
   "outputs": [
    {
     "name": "stdout",
     "output_type": "stream",
     "text": [
      "(60000, 10)\n",
      "0.9134666666666666\n"
     ]
    }
   ],
   "source": [
    "p2 = model.predict(X_train)\n",
    "print(p2.shape)\n",
    "\n",
    "p2 = np.argmax(p2, axis = 1)  # 인덱스 값 뽑아내는 함수 argmax\n",
    " \n",
    "print(np.mean(p2 == y_train))"
   ]
  },
  {
   "cell_type": "code",
   "execution_count": 55,
   "metadata": {},
   "outputs": [
    {
     "name": "stdout",
     "output_type": "stream",
     "text": [
      "7850\n"
     ]
    }
   ],
   "source": [
    "# 784 차원 + 1 : 분류기당 785개 * 10개 분류기 = 7850개\n",
    "print(784 * 10 + 10)   /  input size * 뉴런수 + 뉴런수"
   ]
  },
  {
   "cell_type": "markdown",
   "metadata": {},
   "source": [
    "# 각 레이어에서 추정해야하는 파라미터 갯수\n",
    "- layer 추가 + 정규화 필수"
   ]
  },
  {
   "cell_type": "code",
   "execution_count": 71,
   "metadata": {},
   "outputs": [
    {
     "name": "stdout",
     "output_type": "stream",
     "text": [
      "Model: \"sequential_9\"\n",
      "_________________________________________________________________\n",
      "Layer (type)                 Output Shape              Param #   \n",
      "=================================================================\n",
      "dense_18 (Dense)             (None, 256)               200960    \n",
      "_________________________________________________________________\n",
      "dense_19 (Dense)             (None, 128)               32896     \n",
      "_________________________________________________________________\n",
      "dense_20 (Dense)             (None, 10)                1290      \n",
      "=================================================================\n",
      "Total params: 235,146\n",
      "Trainable params: 235,146\n",
      "Non-trainable params: 0\n",
      "_________________________________________________________________\n",
      "3925\n",
      "60\n"
     ]
    }
   ],
   "source": [
    "model = Sequential()\n",
    "\n",
    "# 784 차원을 5 차원으로 너무 확 줄임 -> 성능이 잘 안나옴\n",
    "model.add(Dense(256, input_dim=784, activation='relu'))\n",
    "model.add(Dense(128, activation='relu'))\n",
    "\n",
    "model.add(Dense(10, activation='softmax'))    # 마지막 나오는 아웃풋은 10개이므로 바꿀 수 없음.\n",
    "model.compile(loss = 'categorical_crossentropy', optimizer = 'adam', metrics = ['accuracy'])\n",
    "model.summary()\n",
    "\n",
    "# 784 차원 * 5 + 5  = 3925 개,, / layer1에 대한것\n",
    "print(784 * 5 + 5)\n",
    "\n",
    "# 두번째 노드 층 \n",
    "# 입력 갯수 = 5 / 뉴런수 = 10 \n",
    "print(5 * 10 + 10)"
   ]
  },
  {
   "cell_type": "code",
   "execution_count": 72,
   "metadata": {},
   "outputs": [
    {
     "name": "stdout",
     "output_type": "stream",
     "text": [
      "Epoch 1/50\n",
      "600/600 [==============================] - 1s 2ms/step - loss: 2.4229 - accuracy: 0.8858\n",
      "Epoch 2/50\n",
      "600/600 [==============================] - 1s 2ms/step - loss: 0.4023 - accuracy: 0.9411\n",
      "Epoch 3/50\n",
      "600/600 [==============================] - 1s 2ms/step - loss: 0.2276 - accuracy: 0.9582\n",
      "Epoch 4/50\n",
      "600/600 [==============================] - 1s 2ms/step - loss: 0.1688 - accuracy: 0.9651\n",
      "Epoch 5/50\n",
      "600/600 [==============================] - 1s 2ms/step - loss: 0.1479 - accuracy: 0.9681\n",
      "Epoch 6/50\n",
      "600/600 [==============================] - 1s 2ms/step - loss: 0.1307 - accuracy: 0.9697\n",
      "Epoch 7/50\n",
      "600/600 [==============================] - 1s 2ms/step - loss: 0.1021 - accuracy: 0.9750\n",
      "Epoch 8/50\n",
      "600/600 [==============================] - 1s 2ms/step - loss: 0.1032 - accuracy: 0.9748\n",
      "Epoch 9/50\n",
      "600/600 [==============================] - 1s 2ms/step - loss: 0.1042 - accuracy: 0.9754\n",
      "Epoch 10/50\n",
      "600/600 [==============================] - 1s 2ms/step - loss: 0.0802 - accuracy: 0.9785\n",
      "Epoch 11/50\n",
      "600/600 [==============================] - 1s 2ms/step - loss: 0.0747 - accuracy: 0.9797\n",
      "Epoch 12/50\n",
      "600/600 [==============================] - 1s 2ms/step - loss: 0.0676 - accuracy: 0.9813\n",
      "Epoch 13/50\n",
      "600/600 [==============================] - 1s 2ms/step - loss: 0.0617 - accuracy: 0.9826\n",
      "Epoch 14/50\n",
      "600/600 [==============================] - 1s 2ms/step - loss: 0.0635 - accuracy: 0.9825\n",
      "Epoch 15/50\n",
      "600/600 [==============================] - 1s 2ms/step - loss: 0.0621 - accuracy: 0.9832\n",
      "Epoch 16/50\n",
      "600/600 [==============================] - ETA: 0s - loss: 0.0531 - accuracy: 0.98 - 1s 2ms/step - loss: 0.0533 - accuracy: 0.9856\n",
      "Epoch 17/50\n",
      "600/600 [==============================] - 1s 2ms/step - loss: 0.0538 - accuracy: 0.9856\n",
      "Epoch 18/50\n",
      "600/600 [==============================] - 1s 2ms/step - loss: 0.0570 - accuracy: 0.9847\n",
      "Epoch 19/50\n",
      "600/600 [==============================] - 1s 2ms/step - loss: 0.0605 - accuracy: 0.9835\n",
      "Epoch 20/50\n",
      "600/600 [==============================] - 1s 2ms/step - loss: 0.0516 - accuracy: 0.9865\n",
      "Epoch 21/50\n",
      "600/600 [==============================] - 1s 2ms/step - loss: 0.0381 - accuracy: 0.9893\n",
      "Epoch 22/50\n",
      "600/600 [==============================] - 1s 2ms/step - loss: 0.0394 - accuracy: 0.9893\n",
      "Epoch 23/50\n",
      "600/600 [==============================] - 1s 2ms/step - loss: 0.0441 - accuracy: 0.9884\n",
      "Epoch 24/50\n",
      "600/600 [==============================] - 1s 2ms/step - loss: 0.0433 - accuracy: 0.9891\n",
      "Epoch 25/50\n",
      "600/600 [==============================] - 1s 2ms/step - loss: 0.0458 - accuracy: 0.9884\n",
      "Epoch 26/50\n",
      "600/600 [==============================] - 1s 2ms/step - loss: 0.0444 - accuracy: 0.9890\n",
      "Epoch 27/50\n",
      "600/600 [==============================] - 1s 2ms/step - loss: 0.0309 - accuracy: 0.9918\n",
      "Epoch 28/50\n",
      "600/600 [==============================] - 1s 2ms/step - loss: 0.0292 - accuracy: 0.9923\n",
      "Epoch 29/50\n",
      "600/600 [==============================] - 1s 2ms/step - loss: 0.0376 - accuracy: 0.9905\n",
      "Epoch 30/50\n",
      "600/600 [==============================] - 1s 2ms/step - loss: 0.0459 - accuracy: 0.9889\n",
      "Epoch 31/50\n",
      "600/600 [==============================] - 1s 2ms/step - loss: 0.0366 - accuracy: 0.9910\n",
      "Epoch 32/50\n",
      "600/600 [==============================] - 1s 2ms/step - loss: 0.0338 - accuracy: 0.9917\n",
      "Epoch 33/50\n",
      "600/600 [==============================] - 1s 2ms/step - loss: 0.0377 - accuracy: 0.9913\n",
      "Epoch 34/50\n",
      "600/600 [==============================] - 1s 2ms/step - loss: 0.0303 - accuracy: 0.9931\n",
      "Epoch 35/50\n",
      "600/600 [==============================] - 1s 2ms/step - loss: 0.0398 - accuracy: 0.9912\n",
      "Epoch 36/50\n",
      "600/600 [==============================] - 1s 2ms/step - loss: 0.0326 - accuracy: 0.9928\n",
      "Epoch 37/50\n",
      "600/600 [==============================] - 1s 2ms/step - loss: 0.0332 - accuracy: 0.9928\n",
      "Epoch 38/50\n",
      "600/600 [==============================] - 1s 2ms/step - loss: 0.0293 - accuracy: 0.9936\n",
      "Epoch 39/50\n",
      "600/600 [==============================] - 1s 2ms/step - loss: 0.0269 - accuracy: 0.9937\n",
      "Epoch 40/50\n",
      "600/600 [==============================] - 1s 2ms/step - loss: 0.0308 - accuracy: 0.9934\n",
      "Epoch 41/50\n",
      "600/600 [==============================] - 1s 2ms/step - loss: 0.0219 - accuracy: 0.9948\n",
      "Epoch 42/50\n",
      "600/600 [==============================] - 1s 2ms/step - loss: 0.0274 - accuracy: 0.9941\n",
      "Epoch 43/50\n",
      "600/600 [==============================] - 1s 2ms/step - loss: 0.0426 - accuracy: 0.9924\n",
      "Epoch 44/50\n",
      "600/600 [==============================] - 1s 2ms/step - loss: 0.0268 - accuracy: 0.9947\n",
      "Epoch 45/50\n",
      "600/600 [==============================] - 1s 2ms/step - loss: 0.0232 - accuracy: 0.9949\n",
      "Epoch 46/50\n",
      "600/600 [==============================] - 1s 2ms/step - loss: 0.0249 - accuracy: 0.9947\n",
      "Epoch 47/50\n",
      "600/600 [==============================] - 1s 2ms/step - loss: 0.0344 - accuracy: 0.9932\n",
      "Epoch 48/50\n",
      "600/600 [==============================] - 1s 2ms/step - loss: 0.0325 - accuracy: 0.9935\n",
      "Epoch 49/50\n",
      "600/600 [==============================] - 1s 2ms/step - loss: 0.0284 - accuracy: 0.9946\n",
      "Epoch 50/50\n",
      "600/600 [==============================] - 1s 2ms/step - loss: 0.0267 - accuracy: 0.9949\n"
     ]
    }
   ],
   "source": [
    "hist = model.fit(x = X_train, y = y_train_e, \n",
    "                epochs =50,\n",
    "                verbose = 1,\n",
    "                batch_size = 100)\n"
   ]
  },
  {
   "cell_type": "code",
   "execution_count": 73,
   "metadata": {},
   "outputs": [
    {
     "name": "stdout",
     "output_type": "stream",
     "text": [
      "Test accuracy: 0.9735999703407288\n"
     ]
    }
   ],
   "source": [
    "score = model.evaluate(X_test, y_test_e, verbose = 0)\n",
    "print('Test accuracy:', score[1])"
   ]
  },
  {
   "cell_type": "markdown",
   "metadata": {},
   "source": [
    "## 정규화\n",
    "- 영상은 무조건 정규화 해줄것(/255)"
   ]
  },
  {
   "cell_type": "code",
   "execution_count": 75,
   "metadata": {},
   "outputs": [],
   "source": [
    "# 1차원으로 만들기 전의 2차원 함수\n",
    "\n",
    "X_train = X_train / 255\n",
    "X_test = X_test / 255"
   ]
  },
  {
   "cell_type": "code",
   "execution_count": 76,
   "metadata": {},
   "outputs": [
    {
     "name": "stdout",
     "output_type": "stream",
     "text": [
      "Epoch 1/50\n",
      "600/600 [==============================] - 1s 2ms/step - loss: 0.1310 - accuracy: 0.9559\n",
      "Epoch 2/50\n",
      "600/600 [==============================] - 1s 2ms/step - loss: 0.0129 - accuracy: 0.9970\n",
      "Epoch 3/50\n",
      "600/600 [==============================] - 1s 2ms/step - loss: 0.0066 - accuracy: 0.9988\n",
      "Epoch 4/50\n",
      "600/600 [==============================] - 1s 2ms/step - loss: 0.0043 - accuracy: 0.9993\n",
      "Epoch 5/50\n",
      "600/600 [==============================] - 1s 2ms/step - loss: 0.0031 - accuracy: 0.9994\n",
      "Epoch 6/50\n",
      "600/600 [==============================] - 1s 2ms/step - loss: 0.0024 - accuracy: 0.9996\n",
      "Epoch 7/50\n",
      "600/600 [==============================] - 1s 2ms/step - loss: 0.0033 - accuracy: 0.9992\n",
      "Epoch 8/50\n",
      "600/600 [==============================] - 1s 2ms/step - loss: 0.0061 - accuracy: 0.9981\n",
      "Epoch 9/50\n",
      "600/600 [==============================] - 1s 2ms/step - loss: 0.0049 - accuracy: 0.9985\n",
      "Epoch 10/50\n",
      "600/600 [==============================] - 1s 2ms/step - loss: 0.0064 - accuracy: 0.9980\n",
      "Epoch 11/50\n",
      "600/600 [==============================] - 1s 2ms/step - loss: 0.0027 - accuracy: 0.9992\n",
      "Epoch 12/50\n",
      "600/600 [==============================] - 1s 2ms/step - loss: 0.0015 - accuracy: 0.9996\n",
      "Epoch 13/50\n",
      "600/600 [==============================] - 1s 2ms/step - loss: 0.0061 - accuracy: 0.9979\n",
      "Epoch 14/50\n",
      "600/600 [==============================] - 1s 2ms/step - loss: 0.0020 - accuracy: 0.9995\n",
      "Epoch 15/50\n",
      "600/600 [==============================] - 1s 2ms/step - loss: 0.0018 - accuracy: 0.9995\n",
      "Epoch 16/50\n",
      "600/600 [==============================] - 1s 2ms/step - loss: 0.0085 - accuracy: 0.9973\n",
      "Epoch 17/50\n",
      "600/600 [==============================] - 1s 2ms/step - loss: 0.0027 - accuracy: 0.9991\n",
      "Epoch 18/50\n",
      "600/600 [==============================] - 1s 2ms/step - loss: 0.0022 - accuracy: 0.9993\n",
      "Epoch 19/50\n",
      "600/600 [==============================] - 1s 2ms/step - loss: 0.0032 - accuracy: 0.9989\n",
      "Epoch 20/50\n",
      "600/600 [==============================] - 1s 2ms/step - loss: 0.0025 - accuracy: 0.9993\n",
      "Epoch 21/50\n",
      "600/600 [==============================] - 1s 2ms/step - loss: 0.0014 - accuracy: 0.9997\n",
      "Epoch 22/50\n",
      "600/600 [==============================] - 2s 3ms/step - loss: 1.9192e-04 - accuracy: 1.0000\n",
      "Epoch 23/50\n",
      "600/600 [==============================] - 2s 3ms/step - loss: 6.3631e-04 - accuracy: 0.9998\n",
      "Epoch 24/50\n",
      "600/600 [==============================] - 1s 2ms/step - loss: 0.0090 - accuracy: 0.9970\n",
      "Epoch 25/50\n",
      "600/600 [==============================] - 1s 2ms/step - loss: 0.0037 - accuracy: 0.9986\n",
      "Epoch 26/50\n",
      "600/600 [==============================] - 1s 2ms/step - loss: 0.0043 - accuracy: 0.9987\n",
      "Epoch 27/50\n",
      "600/600 [==============================] - 1s 2ms/step - loss: 0.0015 - accuracy: 0.9996\n",
      "Epoch 28/50\n",
      "600/600 [==============================] - 1s 2ms/step - loss: 0.0012 - accuracy: 0.9997\n",
      "Epoch 29/50\n",
      "600/600 [==============================] - 1s 2ms/step - loss: 0.0023 - accuracy: 0.9992\n",
      "Epoch 30/50\n",
      "600/600 [==============================] - 1s 2ms/step - loss: 0.0040 - accuracy: 0.9986\n",
      "Epoch 31/50\n",
      "600/600 [==============================] - 1s 2ms/step - loss: 0.0032 - accuracy: 0.9991\n",
      "Epoch 32/50\n",
      "600/600 [==============================] - 1s 2ms/step - loss: 0.0011 - accuracy: 0.9996\n",
      "Epoch 33/50\n",
      "600/600 [==============================] - 1s 2ms/step - loss: 0.0029 - accuracy: 0.9992\n",
      "Epoch 34/50\n",
      "600/600 [==============================] - 1s 2ms/step - loss: 0.0020 - accuracy: 0.9995\n",
      "Epoch 35/50\n",
      "600/600 [==============================] - 2s 3ms/step - loss: 0.0044 - accuracy: 0.9987\n",
      "Epoch 36/50\n",
      "600/600 [==============================] - 1s 2ms/step - loss: 0.0032 - accuracy: 0.9990\n",
      "Epoch 37/50\n",
      "600/600 [==============================] - 1s 2ms/step - loss: 0.0029 - accuracy: 0.9991\n",
      "Epoch 38/50\n",
      "600/600 [==============================] - 1s 2ms/step - loss: 6.8273e-04 - accuracy: 0.9998 - loss: 9.9195e\n",
      "Epoch 39/50\n",
      "600/600 [==============================] - 1s 2ms/step - loss: 1.0570e-04 - accuracy: 1.0000\n",
      "Epoch 40/50\n",
      "600/600 [==============================] - 1s 2ms/step - loss: 1.4415e-05 - accuracy: 1.0000\n",
      "Epoch 41/50\n",
      "600/600 [==============================] - 1s 2ms/step - loss: 8.6521e-06 - accuracy: 1.0000\n",
      "Epoch 42/50\n",
      "600/600 [==============================] - 1s 2ms/step - loss: 6.1995e-06 - accuracy: 1.0000\n",
      "Epoch 43/50\n",
      "600/600 [==============================] - 1s 2ms/step - loss: 4.7065e-06 - accuracy: 1.0000\n",
      "Epoch 44/50\n",
      "600/600 [==============================] - 1s 2ms/step - loss: 3.6618e-06 - accuracy: 1.0000\n",
      "Epoch 45/50\n",
      "600/600 [==============================] - 1s 2ms/step - loss: 2.8395e-06 - accuracy: 1.0000\n",
      "Epoch 46/50\n",
      "600/600 [==============================] - 1s 2ms/step - loss: 2.2225e-06 - accuracy: 1.0000\n",
      "Epoch 47/50\n",
      "600/600 [==============================] - 1s 2ms/step - loss: 1.7388e-06 - accuracy: 1.0000\n",
      "Epoch 48/50\n",
      "600/600 [==============================] - 1s 2ms/step - loss: 1.3544e-06 - accuracy: 1.0000\n",
      "Epoch 49/50\n",
      "600/600 [==============================] - 1s 2ms/step - loss: 1.0524e-06 - accuracy: 1.0000\n",
      "Epoch 50/50\n",
      "600/600 [==============================] - 1s 2ms/step - loss: 8.1866e-07 - accuracy: 1.0000\n"
     ]
    }
   ],
   "source": [
    "hist = model.fit(x = X_train, y = y_train_e, \n",
    "                epochs =50,\n",
    "                verbose = 1,\n",
    "                batch_size = 100)"
   ]
  },
  {
   "cell_type": "code",
   "execution_count": 78,
   "metadata": {},
   "outputs": [
    {
     "name": "stdout",
     "output_type": "stream",
     "text": [
      "Test accuracy: 0.9833999872207642\n"
     ]
    }
   ],
   "source": [
    "# 정규화로 2% 성능 향상됨\n",
    "\n",
    "score = model.evaluate(X_test, y_test_e, verbose = 0)\n",
    "print('Test accuracy:', score[1])"
   ]
  },
  {
   "cell_type": "markdown",
   "metadata": {},
   "source": [
    "## CNN"
   ]
  },
  {
   "cell_type": "markdown",
   "metadata": {},
   "source": [
    "### CNN 하기 위한 기본 준비"
   ]
  },
  {
   "cell_type": "code",
   "execution_count": 35,
   "metadata": {},
   "outputs": [
    {
     "name": "stdout",
     "output_type": "stream",
     "text": [
      "(60000, 28, 28, 1)\n",
      "(10000, 28, 28, 1)\n",
      "(60000, 10)\n"
     ]
    }
   ],
   "source": [
    "(X_train, y_train), (X_test, y_test) = mnist.load_data()\n",
    "\n",
    "# 60000 x 28 x 28 x 1\n",
    "X_train = X_train.reshape((60000,28, 28, 1))\n",
    "X_test = X_test.reshape((10000, 28, 28, 1))\n",
    "y_train_e = to_categorical(y_train)\n",
    "y_test_e = to_categorical(y_test)\n",
    "\n",
    "print(X_train.shape)\n",
    "print(X_test.shape)\n",
    "print(y_train_e.shape)\n",
    "# 무조건 정규화는 한다고 생각한다.\n",
    "X_train = X_train / 255\n",
    "X_test = X_test / 255"
   ]
  },
  {
   "cell_type": "code",
   "execution_count": 29,
   "metadata": {},
   "outputs": [],
   "source": [
    "model = Sequential()\n",
    "\n",
    "model.add(Conv2D(input_shape = (28, 28, 1), filters = 50, \n",
    "                kernel_size = (3,3), strides = (1,1), padding = 'same'))\n",
    "\n",
    "model.add(Activation('relu'))\n",
    "model.add(MaxPooling2D(pool_size = (2,2)))\n",
    "\n",
    "model.add(Conv2D( filters = 50, \n",
    "                kernel_size = (3,3), strides = (1,1), padding = 'same'))\n",
    "\n",
    "model.add(Activation('relu'))\n",
    "model.add(MaxPooling2D(pool_size = (2,2)))\n",
    "\n",
    "# 2차원 벡터 1차원으로 바꾸기\n",
    "model.add(Flatten())\n",
    "model.add(Dense(256, activation = 'relu'))\n",
    "model.add(Dense(10, activation = 'softmax'))\n",
    "\n",
    "adam = optimizers.Adam(lr = 0.001)\n",
    "model.compile(loss = 'categorical_crossentropy',\n",
    "             optimizer = adam, metrics = ['accuracy'])"
   ]
  },
  {
   "cell_type": "code",
   "execution_count": 30,
   "metadata": {},
   "outputs": [
    {
     "name": "stdout",
     "output_type": "stream",
     "text": [
      "Model: \"sequential\"\n",
      "_________________________________________________________________\n",
      "Layer (type)                 Output Shape              Param #   \n",
      "=================================================================\n",
      "conv2d (Conv2D)              (None, 28, 28, 50)        500       \n",
      "_________________________________________________________________\n",
      "activation (Activation)      (None, 28, 28, 50)        0         \n",
      "_________________________________________________________________\n",
      "max_pooling2d (MaxPooling2D) (None, 14, 14, 50)        0         \n",
      "_________________________________________________________________\n",
      "conv2d_1 (Conv2D)            (None, 14, 14, 50)        22550     \n",
      "_________________________________________________________________\n",
      "activation_1 (Activation)    (None, 14, 14, 50)        0         \n",
      "_________________________________________________________________\n",
      "max_pooling2d_1 (MaxPooling2 (None, 7, 7, 50)          0         \n",
      "_________________________________________________________________\n",
      "flatten (Flatten)            (None, 2450)              0         \n",
      "_________________________________________________________________\n",
      "dense (Dense)                (None, 256)               627456    \n",
      "_________________________________________________________________\n",
      "dense_1 (Dense)              (None, 10)                2570      \n",
      "=================================================================\n",
      "Total params: 653,076\n",
      "Trainable params: 653,076\n",
      "Non-trainable params: 0\n",
      "_________________________________________________________________\n"
     ]
    }
   ],
   "source": [
    "model.summary()\n",
    "\n",
    "# input -> 60000 x 28 x 28 x 1\n",
    "# layer conv -> ? x 28 x 28 x 50    ->   파라미터 : 학습해야하는 가중치  500 = 3 * 3  * 1 * 50 + 50 (3 x 3 필터 50개 학습 + bias 50개)\n",
    "# layer dense(256)    ->    9800 * 256 + 256\n",
    "# layer conc2 ->            13530 = 9 * 30 * 50(입력으로 들어오는 채널수) + 30 "
   ]
  },
  {
   "cell_type": "code",
   "execution_count": 31,
   "metadata": {},
   "outputs": [
    {
     "name": "stdout",
     "output_type": "stream",
     "text": [
      "1200/1200 [==============================] - 48s 40ms/step - loss: 0.1319 - accuracy: 0.9592\n"
     ]
    }
   ],
   "source": [
    "history = model.fit(X_train, y_train_e,\n",
    "                   batch_size = 50,\n",
    "#                    validation split = 0.2   # validation split = 0.2 -> 80%는 훈련으로 하겠다.\n",
    "                   epochs = 1, verbose = 1)"
   ]
  },
  {
   "cell_type": "code",
   "execution_count": 93,
   "metadata": {},
   "outputs": [
    {
     "name": "stdout",
     "output_type": "stream",
     "text": [
      "Test accuract: 0.9836999773979187\n"
     ]
    }
   ],
   "source": [
    "score = model.evaluate(X_test, y_test_e, verbose = 0)\n",
    "print('Test accuray:', score[1])"
   ]
  },
  {
   "cell_type": "code",
   "execution_count": 32,
   "metadata": {
    "scrolled": false
   },
   "outputs": [
    {
     "name": "stdout",
     "output_type": "stream",
     "text": [
      "600/600 [==============================] - 44s 73ms/step - loss: 0.0348 - accuracy: 0.9895\n",
      "313/313 [==============================] - 2s 7ms/step - loss: 0.0350 - accuracy: 0.9886\n",
      "Test accuracy: 0.9886000156402588\n"
     ]
    }
   ],
   "source": [
    "history = model.fit(X_train, y_train_e,\n",
    "                   batch_size = 100,\n",
    "                   epochs = 1, verbose = 0)  \n",
    "\n",
    "score = model.evaluate(X_test, y_test_e, verbose =1)\n",
    "print('Test accuracy:', score[1])"
   ]
  },
  {
   "cell_type": "code",
   "execution_count": 107,
   "metadata": {},
   "outputs": [],
   "source": [
    "model.save('mnist_cnn.h5')"
   ]
  },
  {
   "cell_type": "code",
   "execution_count": 110,
   "metadata": {},
   "outputs": [],
   "source": [
    "model = Sequential()\n",
    "\n",
    "model.add(Conv2D(input_shape = (28, 28, 1), filters = 50, \n",
    "                kernel_size = (3,3), strides = (1,1), padding = 'same'))\n",
    "\n",
    "model.add(Activation('relu'))\n",
    "model.add(MaxPooling2D(pool_size = (2,2)))\n",
    "\n",
    "\n",
    "model.add(Conv2D( filters = 50, \n",
    "                kernel_size = (3,3), strides = (1,1), padding = 'same'))\n",
    "\n",
    "model.add(Activation('relu'))\n",
    "model.add(MaxPooling2D(pool_size = (2,2)))\n",
    "\n",
    "\n",
    "model.add(Conv2D( filters = 30, \n",
    "                kernel_size = (3,3), strides = (1,1), padding = 'same'))\n",
    "\n",
    "model.add(Activation('relu'))\n",
    "model.add(MaxPooling2D(pool_size = (2,2)))\n",
    "\n",
    "\n",
    "\n",
    "# 2차원 벡터 1차원으로 바꾸기\n",
    "model.add(Flatten())\n",
    "model.add(Dense(100, activation = 'relu'))\n",
    "model.add(Dense(10, activation = 'softmax'))\n",
    "\n",
    "adam = optimizers.Adam(lr = 0.001)\n",
    "model.compile(loss = 'categorical_crossentropy',\n",
    "             optimizer = adam, metrics = ['accuracy'])"
   ]
  },
  {
   "cell_type": "code",
   "execution_count": 111,
   "metadata": {},
   "outputs": [
    {
     "name": "stdout",
     "output_type": "stream",
     "text": [
      "Model: \"sequential_19\"\n",
      "_________________________________________________________________\n",
      "Layer (type)                 Output Shape              Param #   \n",
      "=================================================================\n",
      "conv2d_17 (Conv2D)           (None, 28, 28, 50)        500       \n",
      "_________________________________________________________________\n",
      "activation_17 (Activation)   (None, 28, 28, 50)        0         \n",
      "_________________________________________________________________\n",
      "max_pooling2d_17 (MaxPooling (None, 14, 14, 50)        0         \n",
      "_________________________________________________________________\n",
      "conv2d_18 (Conv2D)           (None, 14, 14, 50)        22550     \n",
      "_________________________________________________________________\n",
      "activation_18 (Activation)   (None, 14, 14, 50)        0         \n",
      "_________________________________________________________________\n",
      "max_pooling2d_18 (MaxPooling (None, 7, 7, 50)          0         \n",
      "_________________________________________________________________\n",
      "conv2d_19 (Conv2D)           (None, 7, 7, 30)          13530     \n",
      "_________________________________________________________________\n",
      "activation_19 (Activation)   (None, 7, 7, 30)          0         \n",
      "_________________________________________________________________\n",
      "max_pooling2d_19 (MaxPooling (None, 3, 3, 30)          0         \n",
      "_________________________________________________________________\n",
      "flatten_9 (Flatten)          (None, 270)               0         \n",
      "_________________________________________________________________\n",
      "dense_39 (Dense)             (None, 100)               27100     \n",
      "_________________________________________________________________\n",
      "dense_40 (Dense)             (None, 10)                1010      \n",
      "=================================================================\n",
      "Total params: 64,690\n",
      "Trainable params: 64,690\n",
      "Non-trainable params: 0\n",
      "_________________________________________________________________\n"
     ]
    }
   ],
   "source": [
    "model.summary()"
   ]
  },
  {
   "cell_type": "code",
   "execution_count": 112,
   "metadata": {},
   "outputs": [
    {
     "name": "stdout",
     "output_type": "stream",
     "text": [
      "600/600 [==============================] - 47s 78ms/step - loss: 0.2479 - accuracy: 0.9248\n"
     ]
    }
   ],
   "source": [
    "history = model.fit(X_train, y_train_e,\n",
    "                   batch_size = 100, epochs = 1, verbose = 1)  "
   ]
  },
  {
   "cell_type": "code",
   "execution_count": 113,
   "metadata": {},
   "outputs": [
    {
     "name": "stdout",
     "output_type": "stream",
     "text": [
      "Test accuracy: 0.9761999845504761\n"
     ]
    }
   ],
   "source": [
    "score = model.evaluate(X_test, y_test_e, verbose = 0)\n",
    "print('Test accuracy:', score[1])"
   ]
  },
  {
   "cell_type": "code",
   "execution_count": 114,
   "metadata": {},
   "outputs": [],
   "source": [
    "model.save('mnist_cnn_tiny.h5')  # 저장용량 작아짐"
   ]
  },
  {
   "cell_type": "markdown",
   "metadata": {},
   "source": [
    "# 실제 테스트 해보기"
   ]
  },
  {
   "cell_type": "code",
   "execution_count": 33,
   "metadata": {},
   "outputs": [
    {
     "name": "stdout",
     "output_type": "stream",
     "text": [
      "Model: \"sequential_19\"\n",
      "_________________________________________________________________\n",
      "Layer (type)                 Output Shape              Param #   \n",
      "=================================================================\n",
      "conv2d_17 (Conv2D)           (None, 28, 28, 50)        500       \n",
      "_________________________________________________________________\n",
      "activation_17 (Activation)   (None, 28, 28, 50)        0         \n",
      "_________________________________________________________________\n",
      "max_pooling2d_17 (MaxPooling (None, 14, 14, 50)        0         \n",
      "_________________________________________________________________\n",
      "conv2d_18 (Conv2D)           (None, 14, 14, 50)        22550     \n",
      "_________________________________________________________________\n",
      "activation_18 (Activation)   (None, 14, 14, 50)        0         \n",
      "_________________________________________________________________\n",
      "max_pooling2d_18 (MaxPooling (None, 7, 7, 50)          0         \n",
      "_________________________________________________________________\n",
      "conv2d_19 (Conv2D)           (None, 7, 7, 30)          13530     \n",
      "_________________________________________________________________\n",
      "activation_19 (Activation)   (None, 7, 7, 30)          0         \n",
      "_________________________________________________________________\n",
      "max_pooling2d_19 (MaxPooling (None, 3, 3, 30)          0         \n",
      "_________________________________________________________________\n",
      "flatten_9 (Flatten)          (None, 270)               0         \n",
      "_________________________________________________________________\n",
      "dense_39 (Dense)             (None, 100)               27100     \n",
      "_________________________________________________________________\n",
      "dense_40 (Dense)             (None, 10)                1010      \n",
      "=================================================================\n",
      "Total params: 64,690\n",
      "Trainable params: 64,690\n",
      "Non-trainable params: 0\n",
      "_________________________________________________________________\n"
     ]
    }
   ],
   "source": [
    "from keras.models import load_model\n",
    "model = load_model('mnist_cnn_tiny.h5')\n",
    "model.summary()"
   ]
  },
  {
   "cell_type": "code",
   "execution_count": 36,
   "metadata": {},
   "outputs": [
    {
     "name": "stdout",
     "output_type": "stream",
     "text": [
      "[[1.9659194e-10 1.9096194e-09 9.0947978e-09 2.4032099e-07 1.7071637e-10\n",
      "  9.9998546e-01 9.7898095e-08 1.0203701e-07 4.9178652e-07 1.3545751e-05]]\n",
      "5\n"
     ]
    },
    {
     "data": {
      "text/plain": [
       "[<matplotlib.lines.Line2D at 0x208700c05c8>,\n",
       " <matplotlib.lines.Line2D at 0x208701424c8>,\n",
       " <matplotlib.lines.Line2D at 0x2087014b988>,\n",
       " <matplotlib.lines.Line2D at 0x2087014b608>,\n",
       " <matplotlib.lines.Line2D at 0x2087014b708>,\n",
       " <matplotlib.lines.Line2D at 0x2087014bc48>,\n",
       " <matplotlib.lines.Line2D at 0x2087014be48>,\n",
       " <matplotlib.lines.Line2D at 0x2087014d048>,\n",
       " <matplotlib.lines.Line2D at 0x2087014b688>,\n",
       " <matplotlib.lines.Line2D at 0x2087014bc08>]"
      ]
     },
     "execution_count": 36,
     "metadata": {},
     "output_type": "execute_result"
    },
    {
     "data": {
      "image/png": "[encoded data removed]",
      "text/plain": [
       "<Figure size 432x288 with 1 Axes>"
      ]
     },
     "metadata": {
      "needs_background": "light"
     },
     "output_type": "display_data"
    }
   ],
   "source": [
    "import cv2\n",
    "\n",
    "img = cv2.imread('05.png', 0) / 255\n",
    "plt.imshow(img)\n",
    "\n",
    "# 4차원으로 만들기 / test data\n",
    "img = img.reshape(1,28,28,1)\n",
    "\n",
    "p = model.predict(img)\n",
    "print(p)\n",
    "\n",
    "print(np.argmax(p))\n",
    "\n",
    "plt.plot(p)"
   ]
  },
  {
   "cell_type": "code",
   "execution_count": 26,
   "metadata": {},
   "outputs": [
    {
     "data": {
      "text/plain": [
       "[<matplotlib.lines.Line2D at 0x2086e002e08>]"
      ]
     },
     "execution_count": 26,
     "metadata": {},
     "output_type": "execute_result"
    },
    {
     "data": {
      "image/png": "[encoded data removed]",
      "text/plain": [
       "<Figure size 432x288 with 1 Axes>"
      ]
     },
     "metadata": {
      "needs_background": "light"
     },
     "output_type": "display_data"
    }
   ],
   "source": [
    "plt.plot(p[0], 'r*')"
   ]
  },
  {
   "cell_type": "markdown",
   "metadata": {},
   "source": [
    "# MNIST Web 구현\n",
    "- 숫자인식 / 한글인식"
   ]
  },
  {
   "cell_type": "code",
   "execution_count": 42,
   "metadata": {},
   "outputs": [
    {
     "name": "stdout",
     "output_type": "stream",
     "text": [
      "Overwriting server.py\n"
     ]
    }
   ],
   "source": [
    "%%writefile server.py\n",
    "\n",
    "import flask\n",
    "from flask import Flask, render_template, url_for, request\n",
    "import base64\n",
    "import numpy as np\n",
    "import cv2\n",
    "from keras.models import load_model\n",
    "import io \n",
    "\n",
    "import tensorflow as tf\n",
    "from keras import backend as K\n",
    " \n",
    "\n",
    "init_Base64 = 21       # data:image/png;base64로 시작\n",
    "app = Flask(__name__)\n",
    "\n",
    "\n",
    "\n",
    "@app.route('/')\n",
    "def home():\n",
    "    return render_template(\"mnist.html\", ctx = {})\n",
    "\n",
    "\n",
    "@app.route('/upload', methods=['POST'])\n",
    "def upload():\n",
    "    \n",
    "    model = load_model('mnist_cnn_tiny.h5')\n",
    "    modelH = load_model('hand_written_korean_classification.hdf5')\n",
    "    labels_file = io.open('label.txt', 'r', encoding = 'utf-8').read().splitlines()\n",
    "    label = [str for str in labels_file]\n",
    "\n",
    "    draw = request.form['url']\n",
    "    draw = draw[init_Base64:]\n",
    "    draw_decoded = base64.b64decode(draw)\n",
    "    image = np.asarray(bytearray(draw_decoded), dtype = \"uint8\")\n",
    "    \n",
    "    mode = request.form.get(\"mode\", \"digit\")\n",
    "    \n",
    "    if mode == 'digit' :\n",
    "        \n",
    "        image = cv2.imdecode(image, cv2.IMREAD_GRAYSCALE)\n",
    "        image = cv2.resize(image, dsize=(28, 28), interpolation=cv2.INTER_AREA)\n",
    "        image = image.reshape(1,28,28,1)\n",
    "\n",
    "\n",
    "        p = model.predict(image)\n",
    "        p = np.argmax(p)\n",
    "    \n",
    "    else: \n",
    "        image = cv2.imdecode(image, cv2.IMREAD_COLOR)\n",
    "        image = cv2.resize(image, dsize=(32, 32), interpolation=cv2.INTER_AREA)\n",
    "        image = (255 - image) / 255\n",
    "        image = image.reshape(1,32,32,3)\n",
    "        \n",
    "\n",
    "        p = modelH.predict(image)\n",
    "        p = label[np.argmax(p)]\n",
    "\n",
    "    return f\"result : {p} <a href=javascript:history.back()>뒤로</a>\"\n",
    "\n",
    "if __name__ == '__main__':\n",
    "    app.run(host='0.0.0.0', debug=True, port = 8000)"
   ]
  },
  {
   "cell_type": "markdown",
   "metadata": {},
   "source": [
    "# 한글 인식"
   ]
  },
  {
   "cell_type": "code",
   "execution_count": 15,
   "metadata": {},
   "outputs": [],
   "source": [
    "from keras.models import load_model\n",
    "import cv2"
   ]
  },
  {
   "cell_type": "code",
   "execution_count": 13,
   "metadata": {},
   "outputs": [
    {
     "name": "stdout",
     "output_type": "stream",
     "text": [
      "Model: \"sequential_1\"\n",
      "_________________________________________________________________\n",
      "Layer (type)                 Output Shape              Param #   \n",
      "=================================================================\n",
      "conv2d_1 (Conv2D)            (None, 32, 32, 32)        896       \n",
      "_________________________________________________________________\n",
      "activation_1 (Activation)    (None, 32, 32, 32)        0         \n",
      "_________________________________________________________________\n",
      "conv2d_2 (Conv2D)            (None, 30, 30, 32)        9248      \n",
      "_________________________________________________________________\n",
      "activation_2 (Activation)    (None, 30, 30, 32)        0         \n",
      "_________________________________________________________________\n",
      "max_pooling2d_1 (MaxPooling2 (None, 15, 15, 32)        0         \n",
      "_________________________________________________________________\n",
      "dropout_1 (Dropout)          (None, 15, 15, 32)        0         \n",
      "_________________________________________________________________\n",
      "conv2d_3 (Conv2D)            (None, 15, 15, 64)        18496     \n",
      "_________________________________________________________________\n",
      "activation_3 (Activation)    (None, 15, 15, 64)        0         \n",
      "_________________________________________________________________\n",
      "dropout_2 (Dropout)          (None, 15, 15, 64)        0         \n",
      "_________________________________________________________________\n",
      "conv2d_4 (Conv2D)            (None, 13, 13, 64)        36928     \n",
      "_________________________________________________________________\n",
      "activation_4 (Activation)    (None, 13, 13, 64)        0         \n",
      "_________________________________________________________________\n",
      "max_pooling2d_2 (MaxPooling2 (None, 6, 6, 64)          0         \n",
      "_________________________________________________________________\n",
      "dropout_3 (Dropout)          (None, 6, 6, 64)          0         \n",
      "_________________________________________________________________\n",
      "flatten_1 (Flatten)          (None, 2304)              0         \n",
      "_________________________________________________________________\n",
      "dense_1 (Dense)              (None, 512)               1180160   \n",
      "_________________________________________________________________\n",
      "activation_5 (Activation)    (None, 512)               0         \n",
      "_________________________________________________________________\n",
      "dropout_4 (Dropout)          (None, 512)               0         \n",
      "_________________________________________________________________\n",
      "dense_2 (Dense)              (None, 980)               502740    \n",
      "_________________________________________________________________\n",
      "activation_6 (Activation)    (None, 980)               0         \n",
      "=================================================================\n",
      "Total params: 1,748,468\n",
      "Trainable params: 1,748,468\n",
      "Non-trainable params: 0\n",
      "_________________________________________________________________\n"
     ]
    }
   ],
   "source": [
    "model = load_model('hand_written_korean_classification.hdf5')\n",
    "\n",
    "model.summary()"
   ]
  },
  {
   "cell_type": "code",
   "execution_count": 23,
   "metadata": {},
   "outputs": [],
   "source": [
    "import io\n",
    "labels_file = io.open('label.txt', 'r', encoding = 'utf-8').read().splitlines()\n",
    "label = [str for str in labels_file]"
   ]
  },
  {
   "cell_type": "code",
   "execution_count": 26,
   "metadata": {},
   "outputs": [
    {
     "name": "stdout",
     "output_type": "stream",
     "text": [
      "각\n"
     ]
    },
    {
     "data": {
      "image/png": "[encoded data removed]",
      "text/plain": [
       "<Figure size 432x288 with 1 Axes>"
      ]
     },
     "metadata": {
      "needs_background": "light"
     },
     "output_type": "display_data"
    }
   ],
   "source": [
    "image = cv2.imread('ka.png')\n",
    "image = (255-image)/255\n",
    "plt.imshow(image)\n",
    "\n",
    "image = image.reshape(1, 32, 32, 3)\n",
    "p = model.predict(image)\n",
    "\n",
    "# 원하는 값이 있는 라벨 나오게 하는 함수 = argmax\n",
    "p = np.argmax(p) \n",
    "print(label[p])"
   ]
  },
  {
   "cell_type": "code",
   "execution_count": 32,
   "metadata": {},
   "outputs": [
    {
     "data": {
      "text/plain": [
       "'2.2.0'"
      ]
     },
     "execution_count": 32,
     "metadata": {},
     "output_type": "execute_result"
    }
   ],
   "source": [
    "import tensorflow\n",
    "tensorflow.__version__"
   ]
  },
  {
   "cell_type": "code",
   "execution_count": null,
   "metadata": {},
   "outputs": [],
   "source": []
  }
 ],
 "metadata": {
  "kernelspec": {
   "display_name": "Python 3",
   "language": "python",
   "name": "python3"
  },
  "language_info": {
   "codemirror_mode": {
    "name": "ipython",
    "version": 3
   },
   "file_extension": ".py",
   "mimetype": "text/x-python",
   "name": "python",
   "nbconvert_exporter": "python",
   "pygments_lexer": "ipython3",
   "version": "3.7.6"
  },
  "toc": {
   "base_numbering": 1,
   "nav_menu": {},
   "number_sections": false,
   "sideBar": true,
   "skip_h1_title": false,
   "title_cell": "Table of Contents",
   "title_sidebar": "Contents",
   "toc_cell": false,
   "toc_position": {
    "height": "calc(100% - 180px)",
    "left": "10px",
    "top": "150px",
    "width": "279.273px"
   },
   "toc_section_display": true,
   "toc_window_display": false
  }
 },
 "nbformat": 4,
 "nbformat_minor": 4
}
