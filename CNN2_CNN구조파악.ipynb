{
 "cells": [
  {
   "cell_type": "markdown",
   "metadata": {},
   "source": [
    "# CNN은 필터를 학습시키는 것\n",
    "- 대체 필터가 어떻게 생겼는지 보겠다.\n",
    "- 학습된 필터가 어떻게 생겼는지 확인."
   ]
  },
  {
   "cell_type": "code",
   "execution_count": 311,
   "metadata": {},
   "outputs": [],
   "source": [
    "from sklearn import datasets\n",
    "import numpy.linalg as lin\n",
    "from sklearn.model_selection import train_test_split\n",
    "import numpy as np\n",
    "import matplotlib.pyplot as plt\n",
    "from keras.datasets import mnist, fashion_mnist\n",
    "from keras import models\n",
    "from keras.utils import to_categorical\n",
    "from keras.models import Sequential\n",
    "from keras import optimizers\n",
    "from keras.layers import Dense, Activation, Flatten, Conv2D, MaxPooling2D, BatchNormalization, Dropout\n",
    "from matplotlib import pyplot as plt\n",
    "from sklearn.datasets import fetch_olivetti_faces\n",
    "import cv2\n",
    "from sklearn.model_selection import train_test_split\n",
    "import keras.utils as utils"
   ]
  },
  {
   "cell_type": "markdown",
   "metadata": {},
   "source": [
    "## callable은 이미 생성된 객체에 대해서 함수처럼 호출할 수 있도록 함."
   ]
  },
  {
   "cell_type": "code",
   "execution_count": 12,
   "metadata": {},
   "outputs": [
    {
     "name": "stdout",
     "output_type": "stream",
     "text": [
      "unit 20\n",
      "hello\n",
      "20 [1, 2, 3, 4, 5]\n",
      "20 [3, 3, 4]\n",
      "unit 50\n",
      "hello\n",
      "unit 50\n",
      "hello\n"
     ]
    }
   ],
   "source": [
    "# __init__ => 객체 생성자\n",
    "\n",
    "\n",
    "class MyLayer : \n",
    "    def __init__(self, unit ) :\n",
    "        self.unit = unit\n",
    "        print('unit', unit)\n",
    "        print(\"hello\")\n",
    "        \n",
    "    def test(self, v) :\n",
    "        print(v)\n",
    "        \n",
    "    def __call__(self, v) :\n",
    "        print(self.unit, v)\n",
    "        return self\n",
    "        \n",
    "        \n",
    "# A = MyLayer()\n",
    "# A.test(10)\n",
    "# A(20)\n",
    "\n",
    "\n",
    "# A = MyLayer()(20)\n",
    "# A = MyLayer()\n",
    "# A(20)\n",
    "\n",
    "# A = MyLayer(20)([1,2,3,4,5])\n",
    "# A 는 클래스\n",
    "\n",
    "A = MyLayer(20)\n",
    "A([1,2,3,4,5])\n",
    "A([3,3,4])\n",
    "A.test(4)\n",
    "\n",
    "\n",
    "B = MyLayer(50)\n",
    "C = MyLayer(50)\n",
    "\n",
    "\n"
   ]
  },
  {
   "cell_type": "markdown",
   "metadata": {},
   "source": [
    "# faces 인식"
   ]
  },
  {
   "cell_type": "code",
   "execution_count": 144,
   "metadata": {},
   "outputs": [
    {
     "name": "stdout",
     "output_type": "stream",
     "text": [
      "(400, 4096)\n",
      "(400,)\n",
      "[0.30991736 0.3677686  0.41735536 ... 0.15289256 0.16115703 0.1570248 ]\n"
     ]
    }
   ],
   "source": [
    "from sklearn.datasets import fetch_olivetti_faces\n",
    "import cv2\n",
    "\n",
    "orl = fetch_olivetti_faces()\n",
    "data = orl.data   # 0 ~ 1로 정규화 되어있음\n",
    "target = orl.target\n",
    "\n",
    "\n",
    "# 샘플 수 = 400 개\n",
    "# CNN에 적용하려면 4차원으로 만들어줘야함\n",
    "\n",
    "print(data.shape)\n",
    "print(target.shape)\n",
    "print(data[0])"
   ]
  },
  {
   "cell_type": "code",
   "execution_count": 146,
   "metadata": {},
   "outputs": [
    {
     "data": {
      "text/plain": [
       "<matplotlib.image.AxesImage at 0x2899fa252c8>"
      ]
     },
     "execution_count": 146,
     "metadata": {},
     "output_type": "execute_result"
    },
    {
     "data": {
      "image/png": "[encoded data removed]",
      "text/plain": [
       "<Figure size 432x288 with 1 Axes>"
      ]
     },
     "metadata": {
      "needs_background": "light"
     },
     "output_type": "display_data"
    }
   ],
   "source": [
    "# data[0, :]  ->  data에서 0행의 모든 것들 가져와라 -> 첫번째 사람\n",
    "# 한 사람당 10장씩\n",
    "\n",
    "plt.imshow( data[2,:].reshape(64,64) , cmap='gray')"
   ]
  },
  {
   "cell_type": "code",
   "execution_count": 228,
   "metadata": {},
   "outputs": [
    {
     "name": "stdout",
     "output_type": "stream",
     "text": [
      "(400, 1024)\n"
     ]
    }
   ],
   "source": [
    "data = np.zeros((400, 32 * 32), dtype = 'uint8')\n",
    "\n",
    "# index도 함께 넣어주는 함수 = enumerate\n",
    "\n",
    "for i, d in enumerate(orl.data) : \n",
    "    image = cv2.resize(d.reshape(64, 64), (32, 32))\n",
    "    data[i, :] = image.flatten() * 255\n",
    "    \n",
    "\n",
    "print(data.shape)"
   ]
  },
  {
   "cell_type": "markdown",
   "metadata": {},
   "source": [
    "# training set / test set 나누기"
   ]
  },
  {
   "cell_type": "code",
   "execution_count": 229,
   "metadata": {},
   "outputs": [
    {
     "name": "stdout",
     "output_type": "stream",
     "text": [
      "(320, 1024)\n",
      "(80, 1024)\n"
     ]
    }
   ],
   "source": [
    "from sklearn.model_selection import train_test_split\n",
    "\n",
    "X_train, X_val, y_train, y_val = train_test_split(data, target, test_size = 0.2)\n",
    "    \n",
    "print(X_train.shape)  # train data\n",
    "print(X_val.shape)    # test data"
   ]
  },
  {
   "cell_type": "code",
   "execution_count": 230,
   "metadata": {},
   "outputs": [
    {
     "name": "stdout",
     "output_type": "stream",
     "text": [
      "(320, 32, 32, 1)\n",
      "(320, 40)\n",
      "(80, 32, 32, 1)\n",
      "(80, 40)\n"
     ]
    }
   ],
   "source": [
    "X_train = X_train.reshape(-1, 32, 32, 1)\n",
    "X_val = X_val.reshape(-1, 32, 32, 1)\n",
    "\n",
    "# train / test 의 y 데이터 둘다 원핫 인코딩 해줌\n",
    "y_train_e = utils.to_categorical(y_train, 40)\n",
    "y_val_e = utils.to_categorical(y_val, 40)\n",
    "\n",
    "X_train = X_train / 255\n",
    "X_val = X_val / 255\n",
    "\n",
    "print(X_train.shape)\n",
    "print(y_train_e.shape)\n",
    "print(X_val.shape)\n",
    "print(y_val_e.shape)"
   ]
  },
  {
   "cell_type": "code",
   "execution_count": 231,
   "metadata": {},
   "outputs": [
    {
     "name": "stdout",
     "output_type": "stream",
     "text": [
      "Model: \"sequential_23\"\n",
      "_________________________________________________________________\n",
      "Layer (type)                 Output Shape              Param #   \n",
      "=================================================================\n",
      "conv1_1 (Conv2D)             (None, 32, 32, 16)        160       \n",
      "_________________________________________________________________\n",
      "max_pooling2d_26 (MaxPooling (None, 16, 16, 16)        0         \n",
      "_________________________________________________________________\n",
      "conv2d_23 (Conv2D)           (None, 16, 16, 32)        4640      \n",
      "_________________________________________________________________\n",
      "max_pooling2d_27 (MaxPooling (None, 8, 8, 32)          0         \n",
      "_________________________________________________________________\n",
      "flatten_14 (Flatten)         (None, 2048)              0         \n",
      "_________________________________________________________________\n",
      "dense_28 (Dense)             (None, 512)               1049088   \n",
      "_________________________________________________________________\n",
      "dense_29 (Dense)             (None, 40)                20520     \n",
      "=================================================================\n",
      "Total params: 1,074,408\n",
      "Trainable params: 1,074,408\n",
      "Non-trainable params: 0\n",
      "_________________________________________________________________\n"
     ]
    }
   ],
   "source": [
    "input_shape = (32, 32, 1)\n",
    "model = Sequential()\n",
    "model.add(Conv2D(16, kernel_size=(3, 3), padding = 'same' ,\n",
    "                     activation='relu',input_shape=input_shape, name=\"conv1_1\"))\n",
    "\n",
    "model.add(MaxPooling2D(pool_size=(2, 2)))\n",
    "\n",
    "model.add(Conv2D(32, kernel_size=(3, 3), padding = 'same',\n",
    "                     activation='relu'))\n",
    "model.add(MaxPooling2D(pool_size=(2, 2)))\n",
    "\n",
    "model.add(Flatten())\n",
    "\n",
    "model.add(Dense(512, activation='relu')) \n",
    "model.add(Dense(40, activation='softmax'))\n",
    "model.summary()\n",
    "model.compile(loss='categorical_crossentropy',  optimizer='adam', metrics=['accuracy'])"
   ]
  },
  {
   "cell_type": "code",
   "execution_count": 232,
   "metadata": {
    "scrolled": true
   },
   "outputs": [
    {
     "name": "stdout",
     "output_type": "stream",
     "text": [
      "Epoch 1/40\n",
      "16/16 [==============================] - 0s 21ms/step - loss: 3.7140 - accuracy: 0.0281 - val_loss: 3.6865 - val_accuracy: 0.0000e+00\n",
      "Epoch 2/40\n",
      "16/16 [==============================] - 0s 18ms/step - loss: 3.6702 - accuracy: 0.0437 - val_loss: 3.6890 - val_accuracy: 0.0500\n",
      "Epoch 3/40\n",
      "16/16 [==============================] - 0s 18ms/step - loss: 3.6183 - accuracy: 0.0844 - val_loss: 3.6414 - val_accuracy: 0.0875\n",
      "Epoch 4/40\n",
      "16/16 [==============================] - 0s 18ms/step - loss: 3.4743 - accuracy: 0.2000 - val_loss: 3.4681 - val_accuracy: 0.2250\n",
      "Epoch 5/40\n",
      "16/16 [==============================] - 0s 18ms/step - loss: 3.0857 - accuracy: 0.3281 - val_loss: 3.0640 - val_accuracy: 0.2625\n",
      "Epoch 6/40\n",
      "16/16 [==============================] - 0s 18ms/step - loss: 2.4637 - accuracy: 0.4313 - val_loss: 2.3927 - val_accuracy: 0.5375\n",
      "Epoch 7/40\n",
      "16/16 [==============================] - 0s 18ms/step - loss: 1.6049 - accuracy: 0.6687 - val_loss: 1.7786 - val_accuracy: 0.6000\n",
      "Epoch 8/40\n",
      "16/16 [==============================] - 0s 18ms/step - loss: 0.9978 - accuracy: 0.8094 - val_loss: 1.0877 - val_accuracy: 0.7250\n",
      "Epoch 9/40\n",
      "16/16 [==============================] - 0s 18ms/step - loss: 0.5695 - accuracy: 0.8906 - val_loss: 0.7899 - val_accuracy: 0.8125\n",
      "Epoch 10/40\n",
      "16/16 [==============================] - 0s 18ms/step - loss: 0.3662 - accuracy: 0.9344 - val_loss: 0.5541 - val_accuracy: 0.9125\n",
      "Epoch 11/40\n",
      "16/16 [==============================] - 0s 18ms/step - loss: 0.1738 - accuracy: 0.9906 - val_loss: 0.4338 - val_accuracy: 0.9250\n",
      "Epoch 12/40\n",
      "16/16 [==============================] - 0s 17ms/step - loss: 0.0926 - accuracy: 0.9906 - val_loss: 0.3614 - val_accuracy: 0.9375\n",
      "Epoch 13/40\n",
      "16/16 [==============================] - 0s 17ms/step - loss: 0.0680 - accuracy: 0.9937 - val_loss: 0.4457 - val_accuracy: 0.9250\n",
      "Epoch 14/40\n",
      "16/16 [==============================] - 0s 17ms/step - loss: 0.0480 - accuracy: 1.0000 - val_loss: 0.3631 - val_accuracy: 0.9250\n",
      "Epoch 15/40\n",
      "16/16 [==============================] - 0s 19ms/step - loss: 0.0324 - accuracy: 1.0000 - val_loss: 0.3361 - val_accuracy: 0.9500\n",
      "Epoch 16/40\n",
      "16/16 [==============================] - 0s 19ms/step - loss: 0.0212 - accuracy: 1.0000 - val_loss: 0.3055 - val_accuracy: 0.9500\n",
      "Epoch 17/40\n",
      "16/16 [==============================] - 0s 18ms/step - loss: 0.0151 - accuracy: 1.0000 - val_loss: 0.3144 - val_accuracy: 0.9500\n",
      "Epoch 18/40\n",
      "16/16 [==============================] - 0s 19ms/step - loss: 0.0118 - accuracy: 1.0000 - val_loss: 0.2989 - val_accuracy: 0.9500\n",
      "Epoch 19/40\n",
      "16/16 [==============================] - 0s 18ms/step - loss: 0.0087 - accuracy: 1.0000 - val_loss: 0.3021 - val_accuracy: 0.9500\n",
      "Epoch 20/40\n",
      "16/16 [==============================] - 0s 18ms/step - loss: 0.0083 - accuracy: 1.0000 - val_loss: 0.3093 - val_accuracy: 0.9375\n",
      "Epoch 21/40\n",
      "16/16 [==============================] - 0s 21ms/step - loss: 0.0069 - accuracy: 1.0000 - val_loss: 0.2953 - val_accuracy: 0.9500\n",
      "Epoch 22/40\n",
      "16/16 [==============================] - 0s 18ms/step - loss: 0.0061 - accuracy: 1.0000 - val_loss: 0.2966 - val_accuracy: 0.9500\n",
      "Epoch 23/40\n",
      "16/16 [==============================] - 0s 20ms/step - loss: 0.0055 - accuracy: 1.0000 - val_loss: 0.3070 - val_accuracy: 0.9500\n",
      "Epoch 24/40\n",
      "16/16 [==============================] - 0s 17ms/step - loss: 0.0050 - accuracy: 1.0000 - val_loss: 0.2947 - val_accuracy: 0.9500\n",
      "Epoch 25/40\n",
      "16/16 [==============================] - 0s 20ms/step - loss: 0.0046 - accuracy: 1.0000 - val_loss: 0.2976 - val_accuracy: 0.9500\n",
      "Epoch 26/40\n",
      "16/16 [==============================] - 0s 25ms/step - loss: 0.0041 - accuracy: 1.0000 - val_loss: 0.2970 - val_accuracy: 0.9500\n",
      "Epoch 27/40\n",
      "16/16 [==============================] - 0s 21ms/step - loss: 0.0039 - accuracy: 1.0000 - val_loss: 0.3029 - val_accuracy: 0.9500\n",
      "Epoch 28/40\n",
      "16/16 [==============================] - 0s 22ms/step - loss: 0.0036 - accuracy: 1.0000 - val_loss: 0.2929 - val_accuracy: 0.9500\n",
      "Epoch 29/40\n",
      "16/16 [==============================] - 0s 20ms/step - loss: 0.0034 - accuracy: 1.0000 - val_loss: 0.3050 - val_accuracy: 0.9500\n",
      "Epoch 30/40\n",
      "16/16 [==============================] - 0s 24ms/step - loss: 0.0031 - accuracy: 1.0000 - val_loss: 0.3010 - val_accuracy: 0.9500\n",
      "Epoch 31/40\n",
      "16/16 [==============================] - 0s 18ms/step - loss: 0.0029 - accuracy: 1.0000 - val_loss: 0.2930 - val_accuracy: 0.9500\n",
      "Epoch 32/40\n",
      "16/16 [==============================] - 0s 17ms/step - loss: 0.0027 - accuracy: 1.0000 - val_loss: 0.2951 - val_accuracy: 0.9500\n",
      "Epoch 33/40\n",
      "16/16 [==============================] - 0s 18ms/step - loss: 0.0025 - accuracy: 1.0000 - val_loss: 0.3078 - val_accuracy: 0.9500\n",
      "Epoch 34/40\n",
      "16/16 [==============================] - 0s 18ms/step - loss: 0.0024 - accuracy: 1.0000 - val_loss: 0.3030 - val_accuracy: 0.9500\n",
      "Epoch 35/40\n",
      "16/16 [==============================] - 0s 18ms/step - loss: 0.0022 - accuracy: 1.0000 - val_loss: 0.2945 - val_accuracy: 0.9500\n",
      "Epoch 36/40\n",
      "16/16 [==============================] - 0s 19ms/step - loss: 0.0021 - accuracy: 1.0000 - val_loss: 0.3064 - val_accuracy: 0.9500\n",
      "Epoch 37/40\n",
      "16/16 [==============================] - 0s 19ms/step - loss: 0.0020 - accuracy: 1.0000 - val_loss: 0.2956 - val_accuracy: 0.9500\n",
      "Epoch 38/40\n",
      "16/16 [==============================] - 0s 21ms/step - loss: 0.0019 - accuracy: 1.0000 - val_loss: 0.3072 - val_accuracy: 0.9500\n",
      "Epoch 39/40\n",
      "16/16 [==============================] - 0s 20ms/step - loss: 0.0018 - accuracy: 1.0000 - val_loss: 0.3031 - val_accuracy: 0.9500\n",
      "Epoch 40/40\n",
      "16/16 [==============================] - 0s 20ms/step - loss: 0.0016 - accuracy: 1.0000 - val_loss: 0.3009 - val_accuracy: 0.9500\n"
     ]
    }
   ],
   "source": [
    "history = model.fit(X_train, y_train_e ,\n",
    "                        batch_size=20,\n",
    "                        epochs=40,\n",
    "                        verbose=1,\n",
    "                        validation_data=(X_val, y_val_e ))"
   ]
  },
  {
   "cell_type": "code",
   "execution_count": 233,
   "metadata": {},
   "outputs": [
    {
     "name": "stdout",
     "output_type": "stream",
     "text": [
      "3/3 [==============================] - 0s 4ms/step - loss: 0.3009 - accuracy: 0.9500\n"
     ]
    },
    {
     "data": {
      "text/plain": [
       "[0.3009258806705475, 0.949999988079071]"
      ]
     },
     "execution_count": 233,
     "metadata": {},
     "output_type": "execute_result"
    }
   ],
   "source": [
    "model.evaluate(X_val, y_val_e)"
   ]
  },
  {
   "cell_type": "markdown",
   "metadata": {},
   "source": [
    "# filters 확인"
   ]
  },
  {
   "cell_type": "code",
   "execution_count": 171,
   "metadata": {},
   "outputs": [
    {
     "name": "stdout",
     "output_type": "stream",
     "text": [
      "<class 'list'>\n"
     ]
    }
   ],
   "source": [
    "print(type(model.layers))"
   ]
  },
  {
   "cell_type": "code",
   "execution_count": 172,
   "metadata": {},
   "outputs": [
    {
     "name": "stdout",
     "output_type": "stream",
     "text": [
      "conv1_1\n",
      "max_pooling2d_20\n",
      "conv2d_20\n",
      "max_pooling2d_21\n",
      "flatten_11\n",
      "dense_22\n",
      "dense_23\n",
      "conv1_1\n"
     ]
    }
   ],
   "source": [
    "for layer in model.layers:\n",
    "    print(layer.name)\n",
    "\n",
    "print(model.layers[0].name)"
   ]
  },
  {
   "cell_type": "code",
   "execution_count": 173,
   "metadata": {},
   "outputs": [
    {
     "name": "stdout",
     "output_type": "stream",
     "text": [
      "2\n",
      "(3, 3, 1, 16)\n",
      "(16,)\n"
     ]
    }
   ],
   "source": [
    "W = model.layers[0].get_weights()\n",
    "print(len(W))\n",
    "print(W[0].shape)\n",
    "print(W[1].shape)"
   ]
  },
  {
   "cell_type": "code",
   "execution_count": 174,
   "metadata": {},
   "outputs": [],
   "source": [
    "filters = W[0]"
   ]
  },
  {
   "cell_type": "markdown",
   "metadata": {},
   "source": [
    "## 첫번째 레이어의 첫번째 필터 / 두번째 필터"
   ]
  },
  {
   "cell_type": "code",
   "execution_count": 175,
   "metadata": {},
   "outputs": [
    {
     "name": "stdout",
     "output_type": "stream",
     "text": [
      "[[ 0.199928    0.11168439 -0.02311917]\n",
      " [ 0.06074731  0.2632914  -0.03513249]\n",
      " [ 0.11447246  0.06099636  0.24286288]]\n",
      "[[-0.03521364 -0.09591223  0.21789984]\n",
      " [-0.13721056 -0.09193237  0.07099394]\n",
      " [-0.21232396  0.12273543  0.11090189]]\n"
     ]
    }
   ],
   "source": [
    "f1= filters[:,:,0, 0]\n",
    "print(f1)\n",
    "f2= filters[:,:,0, 1]\n",
    "print(f2)"
   ]
  },
  {
   "cell_type": "code",
   "execution_count": 176,
   "metadata": {},
   "outputs": [
    {
     "name": "stdout",
     "output_type": "stream",
     "text": [
      "[]\n"
     ]
    }
   ],
   "source": [
    "# 풀링층은 학습된 데이터가 없기 때문에 레이어가 없음\n",
    "W = model.layers[1].get_weights()\n",
    "print(W)"
   ]
  },
  {
   "cell_type": "code",
   "execution_count": 177,
   "metadata": {},
   "outputs": [
    {
     "name": "stdout",
     "output_type": "stream",
     "text": [
      "(3, 3, 16, 32)\n",
      "[[ 0.03296982 -0.08651742  0.07652294]\n",
      " [-0.11292697  0.08781037 -0.00014273]\n",
      " [-0.05908889  0.01155394 -0.11757559]]\n"
     ]
    },
    {
     "data": {
      "text/plain": [
       "<matplotlib.image.AxesImage at 0x2899f7aa808>"
      ]
     },
     "execution_count": 177,
     "metadata": {},
     "output_type": "execute_result"
    },
    {
     "data": {
      "image/png": "[encoded data removed]",
      "text/plain": [
       "<Figure size 432x288 with 1 Axes>"
      ]
     },
     "metadata": {
      "needs_background": "light"
     },
     "output_type": "display_data"
    }
   ],
   "source": [
    "W2 = model.layers[2].get_weights()\n",
    "filters = W2[0]\n",
    "print(filters.shape)\n",
    "\n",
    "f1= filters[:,:,0, 0]\n",
    "print(f1)\n",
    "\n",
    "plt.imshow(f1, cmap='gray')"
   ]
  },
  {
   "cell_type": "code",
   "execution_count": 178,
   "metadata": {},
   "outputs": [],
   "source": [
    "from keras.models import Model\n",
    "\n",
    "model2 = Model(inputs=model.inputs, outputs=model.layers[0].output)"
   ]
  },
  {
   "cell_type": "code",
   "execution_count": 195,
   "metadata": {},
   "outputs": [
    {
     "name": "stdout",
     "output_type": "stream",
     "text": [
      "(1, 28, 28, 1)\n"
     ]
    }
   ],
   "source": [
    "I = X_train[4:5,:,:,:]\n",
    "print(I.shape)"
   ]
  },
  {
   "cell_type": "code",
   "execution_count": 196,
   "metadata": {},
   "outputs": [
    {
     "name": "stdout",
     "output_type": "stream",
     "text": [
      "(1, 28, 28, 16)\n"
     ]
    },
    {
     "data": {
      "text/plain": [
       "<matplotlib.image.AxesImage at 0x289aac88c88>"
      ]
     },
     "execution_count": 196,
     "metadata": {},
     "output_type": "execute_result"
    },
    {
     "data": {
      "image/png": "[encoded data removed]",
      "text/plain": [
       "<Figure size 432x288 with 2 Axes>"
      ]
     },
     "metadata": {
      "needs_background": "light"
     },
     "output_type": "display_data"
    }
   ],
   "source": [
    "feature_maps = model2.predict(I)\n",
    "print(feature_maps.shape)\n",
    "\n",
    "img = feature_maps[0, :,:, 2]\n",
    "\n",
    "plt.subplot(121)\n",
    "plt.imshow(I[0, :,:,0], cmap='gray')\n",
    "plt.subplot(122)\n",
    "plt.imshow(img, cmap='gray')"
   ]
  },
  {
   "cell_type": "code",
   "execution_count": 226,
   "metadata": {},
   "outputs": [
    {
     "name": "stdout",
     "output_type": "stream",
     "text": [
      "[[ 0.16572146 -0.01156901  0.04993008]\n",
      " [ 0.04448877 -0.1620253  -0.06433745]\n",
      " [-0.17959322 -0.06314638 -0.03077582]]\n",
      "[[0.         0.         0.         0.         0.         0.\n",
      "  0.         0.         0.         0.         0.         0.\n",
      "  0.         0.        ]\n",
      " [0.         0.         0.         0.         0.         0.\n",
      "  0.         0.         0.         0.         0.         0.\n",
      "  0.00695574 0.        ]\n",
      " [0.00255638 0.         0.01465665 0.00527239 0.01850224 0.00216771\n",
      "  0.         0.00109872 0.         0.         0.         0.00283066\n",
      "  0.02804055 0.01050022]\n",
      " [0.         0.00489837 0.         0.01220421 0.         0.\n",
      "  0.00680969 0.01987273 0.03826961 0.02315988 0.02680265 0.02796149\n",
      "  0.05426043 0.03668522]\n",
      " [0.         0.         0.         0.         0.         0.\n",
      "  0.         0.01616457 0.02386529 0.         0.         0.\n",
      "  0.01722893 0.04845436]\n",
      " [0.         0.         0.         0.         0.         0.\n",
      "  0.         0.         0.         0.         0.         0.\n",
      "  0.01210762 0.03022997]\n",
      " [0.         0.         0.         0.         0.         0.\n",
      "  0.         0.         0.         0.         0.         0.\n",
      "  0.01030172 0.04544844]\n",
      " [0.00192926 0.         0.         0.         0.         0.\n",
      "  0.         0.01127745 0.         0.         0.         0.01148115\n",
      "  0.01616008 0.04584116]\n",
      " [0.00222853 0.         0.         0.         0.         0.00310407\n",
      "  0.         0.02284693 0.01753494 0.00981647 0.         0.0181266\n",
      "  0.02408427 0.04025977]\n",
      " [0.         0.         0.         0.         0.         0.\n",
      "  0.         0.         0.         0.         0.         0.01074942\n",
      "  0.00564104 0.0285776 ]\n",
      " [0.         0.         0.         0.00112618 0.         0.\n",
      "  0.00364654 0.01355042 0.         0.         0.         0.02280049\n",
      "  0.         0.02434757]\n",
      " [0.         0.         0.         0.00350543 0.         0.01834032\n",
      "  0.01948886 0.02475866 0.02178957 0.00921439 0.         0.01047024\n",
      "  0.         0.03305186]\n",
      " [0.         0.         0.         0.         0.         0.\n",
      "  0.         0.         0.         0.         0.         0.\n",
      "  0.         0.00879235]\n",
      " [0.00958996 0.         0.         0.         0.         0.\n",
      "  0.         0.         0.         0.         0.         0.00399661\n",
      "  0.00893855 0.04084739]]\n"
     ]
    }
   ],
   "source": [
    "W2 = model.layers[0].get_weights()\n",
    "filters = W2[0]\n",
    "f1= filters[:,:,0, 2]\n",
    "print(f1)\n",
    "\n",
    "img = feature_maps[0, :,:, 2]\n",
    "print(img)"
   ]
  },
  {
   "cell_type": "markdown",
   "metadata": {},
   "source": [
    "# 16개 필터 어떤지 확인"
   ]
  },
  {
   "cell_type": "code",
   "execution_count": 198,
   "metadata": {},
   "outputs": [
    {
     "data": {
      "image/png": "[encoded data removed]",
      "text/plain": [
       "<Figure size 432x288 with 16 Axes>"
      ]
     },
     "metadata": {},
     "output_type": "display_data"
    }
   ],
   "source": [
    "for ix in range(16) :\n",
    "    ax = plt.subplot(4,4, ix+1)     \n",
    "    fm = feature_maps[0,:,:,ix]\n",
    "    plt.imshow(fm, cmap='gray')  \n",
    "    ax.set_xticks([])\n",
    "    ax.set_yticks([])"
   ]
  },
  {
   "cell_type": "markdown",
   "metadata": {},
   "source": [
    "# 두번째 필터 확인"
   ]
  },
  {
   "cell_type": "code",
   "execution_count": 242,
   "metadata": {},
   "outputs": [
    {
     "name": "stdout",
     "output_type": "stream",
     "text": [
      "(1, 32, 32, 1)\n",
      "(1, 16, 16, 32)\n"
     ]
    },
    {
     "data": {
      "image/png": "[encoded data removed]",
      "text/plain": [
       "<Figure size 432x288 with 32 Axes>"
      ]
     },
     "metadata": {},
     "output_type": "display_data"
    }
   ],
   "source": [
    "model3 = Model(inputs=model.inputs, outputs=model.layers[2].output)\n",
    "I = X_train[169:170, : ,: ,:]\n",
    "\n",
    "\n",
    "feature_maps = model3.predict(I)\n",
    "print(feature_maps.shape)\n",
    "plt.imshow(I[0, :,:,0], cmap='gray')\n",
    "\n",
    "for ix in range(32) :\n",
    "    ax = plt.subplot(4, 8, ix +1)\n",
    "    fm = feature_maps[0,:,:,ix]\n",
    "    plt.imshow(fm, cmap = 'gray')\n",
    "    ax.set_xticks([])\n",
    "    ax.set_yticks([])"
   ]
  },
  {
   "cell_type": "code",
   "execution_count": 244,
   "metadata": {},
   "outputs": [
    {
     "data": {
      "text/plain": [
       "<matplotlib.image.AxesImage at 0x289afebdb88>"
      ]
     },
     "execution_count": 244,
     "metadata": {},
     "output_type": "execute_result"
    },
    {
     "data": {
      "image/png": "[encoded data removed]",
      "text/plain": [
       "<Figure size 432x288 with 1 Axes>"
      ]
     },
     "metadata": {
      "needs_background": "light"
     },
     "output_type": "display_data"
    }
   ],
   "source": [
    "plt.imshow(I.reshape(32,32), cmap = 'gray')"
   ]
  },
  {
   "cell_type": "code",
   "execution_count": 249,
   "metadata": {},
   "outputs": [
    {
     "data": {
      "text/plain": [
       "[<matplotlib.lines.Line2D at 0x2899f698608>,\n",
       " <matplotlib.lines.Line2D at 0x2899f69c488>,\n",
       " <matplotlib.lines.Line2D at 0x2899f69c648>,\n",
       " <matplotlib.lines.Line2D at 0x2899f69c808>,\n",
       " <matplotlib.lines.Line2D at 0x2899f69ca08>,\n",
       " <matplotlib.lines.Line2D at 0x2899f69cc48>,\n",
       " <matplotlib.lines.Line2D at 0x2899f69ce48>,\n",
       " <matplotlib.lines.Line2D at 0x289b02880c8>,\n",
       " <matplotlib.lines.Line2D at 0x2899f69c9c8>,\n",
       " <matplotlib.lines.Line2D at 0x2899f69cbc8>,\n",
       " <matplotlib.lines.Line2D at 0x2899f683348>,\n",
       " <matplotlib.lines.Line2D at 0x289b0288908>,\n",
       " <matplotlib.lines.Line2D at 0x289b0288b48>,\n",
       " <matplotlib.lines.Line2D at 0x289b0288d88>,\n",
       " <matplotlib.lines.Line2D at 0x289b0288fc8>,\n",
       " <matplotlib.lines.Line2D at 0x289b02517c8>,\n",
       " <matplotlib.lines.Line2D at 0x289b0251208>,\n",
       " <matplotlib.lines.Line2D at 0x289b0251c88>,\n",
       " <matplotlib.lines.Line2D at 0x289b0251dc8>,\n",
       " <matplotlib.lines.Line2D at 0x289b0251108>,\n",
       " <matplotlib.lines.Line2D at 0x289b02513c8>,\n",
       " <matplotlib.lines.Line2D at 0x289b02516c8>,\n",
       " <matplotlib.lines.Line2D at 0x289b028dfc8>,\n",
       " <matplotlib.lines.Line2D at 0x289b028d9c8>,\n",
       " <matplotlib.lines.Line2D at 0x289b028d308>,\n",
       " <matplotlib.lines.Line2D at 0x289b028d608>,\n",
       " <matplotlib.lines.Line2D at 0x289b028da48>,\n",
       " <matplotlib.lines.Line2D at 0x289b028d5c8>,\n",
       " <matplotlib.lines.Line2D at 0x289b028d988>,\n",
       " <matplotlib.lines.Line2D at 0x289b028ee08>,\n",
       " <matplotlib.lines.Line2D at 0x289b028e988>,\n",
       " <matplotlib.lines.Line2D at 0x289b028eac8>,\n",
       " <matplotlib.lines.Line2D at 0x289b028ec88>,\n",
       " <matplotlib.lines.Line2D at 0x289b028e848>,\n",
       " <matplotlib.lines.Line2D at 0x289b028e348>,\n",
       " <matplotlib.lines.Line2D at 0x289b025bd48>,\n",
       " <matplotlib.lines.Line2D at 0x289b025b188>,\n",
       " <matplotlib.lines.Line2D at 0x289b025b8c8>,\n",
       " <matplotlib.lines.Line2D at 0x289b025b948>,\n",
       " <matplotlib.lines.Line2D at 0x289b025b308>]"
      ]
     },
     "execution_count": 249,
     "metadata": {},
     "output_type": "execute_result"
    },
    {
     "data": {
      "image/png": "[encoded data removed]",
      "text/plain": [
       "<Figure size 432x288 with 1 Axes>"
      ]
     },
     "metadata": {
      "needs_background": "light"
     },
     "output_type": "display_data"
    }
   ],
   "source": [
    "p = model.predict(X_val)\n",
    "\n",
    "np.max(    p,   axis   =   1    )\n",
    "\n",
    "plt.plot(p)"
   ]
  },
  {
   "cell_type": "markdown",
   "metadata": {},
   "source": [
    "# 정규화"
   ]
  },
  {
   "cell_type": "code",
   "execution_count": 258,
   "metadata": {},
   "outputs": [
    {
     "name": "stdout",
     "output_type": "stream",
     "text": [
      "[0.125 1.    0.25  0.625 0.25  0.75  0.875 0.25  0.5  ]\n",
      "-1.3800688986659932e-16\n",
      "1.0\n"
     ]
    }
   ],
   "source": [
    "d = np.array([10, 80, 20, 50, 20, 60, 70, 20, 40]) \n",
    "\n",
    "n = d / np.max(d)\n",
    "\n",
    "print(n)\n",
    "\n",
    "# 평균을 빼고 표준편차로 나눠줌( 가장 좋은 방식 )\n",
    "n = ( d - np.mean(d) ) / np.std(d)\n",
    "\n",
    "print(np.mean(n))\n",
    "print(np.std(n))\n",
    "\n"
   ]
  },
  {
   "cell_type": "code",
   "execution_count": 271,
   "metadata": {},
   "outputs": [],
   "source": [
    "X_train, X_val, y_train, y_val = train_test_split(data, target, test_size = 0.2)\n",
    "\n",
    "X_train = X_train.reshape(-1, 32, 32, 1) / 255\n",
    "X_val = X_val.reshape(-1, 32, 32, 1) / 255\n",
    "\n",
    "\n",
    "y_train_e = utils.to_categorical(y_train, 40)\n",
    "y_val_e = utils.to_categorical(y_val, 40)\n"
   ]
  },
  {
   "cell_type": "code",
   "execution_count": 305,
   "metadata": {},
   "outputs": [],
   "source": [
    "input_shape = (32, 32, 1)\n",
    "model = Sequential()\n",
    "model.add(Conv2D(16, kernel_size=(3, 3), padding = 'same' ,input_shape=input_shape))\n",
    "\n",
    "# 정규화 하고 activation 하기 !!\n",
    "model.add(BatchNormalization())\n",
    "model.add(Activation('relu'))\n",
    "\n",
    "model.add(MaxPooling2D(pool_size=(2, 2)))\n",
    "\n",
    "\n",
    "model.add(Conv2D(32, kernel_size=(3, 3), padding = 'same',\n",
    "                     activation='relu'))\n",
    "model.add(MaxPooling2D(pool_size=(2, 2)))\n",
    "\n",
    "model.add(BatchNormalization())\n",
    "\n",
    "\n",
    "model.add(Flatten())\n",
    "\n",
    "model.add(Dense(512))\n",
    "model.add(BatchNormalization())\n",
    "model.add(Activation('relu'))\n",
    "\n",
    "model.add(Dense(40))\n",
    "model.add(BatchNormalization())\n",
    "model.add(Activation('softmax'))\n",
    "\n",
    "model.compile(loss='categorical_crossentropy',  optimizer='adam', metrics=['accuracy'])"
   ]
  },
  {
   "cell_type": "code",
   "execution_count": 304,
   "metadata": {},
   "outputs": [
    {
     "name": "stdout",
     "output_type": "stream",
     "text": [
      "Model: \"sequential_39\"\n",
      "_________________________________________________________________\n",
      "Layer (type)                 Output Shape              Param #   \n",
      "=================================================================\n",
      "conv2d_46 (Conv2D)           (None, 32, 32, 16)        160       \n",
      "_________________________________________________________________\n",
      "batch_normalization_29 (Batc (None, 32, 32, 16)        64        \n",
      "_________________________________________________________________\n",
      "activation_25 (Activation)   (None, 32, 32, 16)        0         \n",
      "_________________________________________________________________\n",
      "max_pooling2d_55 (MaxPooling (None, 16, 16, 16)        0         \n",
      "_________________________________________________________________\n",
      "conv2d_47 (Conv2D)           (None, 16, 16, 32)        4640      \n",
      "_________________________________________________________________\n",
      "max_pooling2d_56 (MaxPooling (None, 8, 8, 32)          0         \n",
      "_________________________________________________________________\n",
      "batch_normalization_30 (Batc (None, 8, 8, 32)          128       \n",
      "_________________________________________________________________\n",
      "flatten_27 (Flatten)         (None, 2048)              0         \n",
      "_________________________________________________________________\n",
      "dense_51 (Dense)             (None, 512)               1049088   \n",
      "_________________________________________________________________\n",
      "batch_normalization_31 (Batc (None, 512)               2048      \n",
      "_________________________________________________________________\n",
      "activation_26 (Activation)   (None, 512)               0         \n",
      "_________________________________________________________________\n",
      "dense_52 (Dense)             (None, 40)                20520     \n",
      "_________________________________________________________________\n",
      "batch_normalization_32 (Batc (None, 40)                160       \n",
      "_________________________________________________________________\n",
      "activation_27 (Activation)   (None, 40)                0         \n",
      "=================================================================\n",
      "Total params: 1,076,808\n",
      "Trainable params: 1,075,608\n",
      "Non-trainable params: 1,200\n",
      "_________________________________________________________________\n"
     ]
    }
   ],
   "source": [
    "model.summary()\n",
    "\n",
    "# history = model.fit(X_train, y_train_e ,\n",
    "#                         batch_size=20,\n",
    "#                         epochs=40,\n",
    "#                         verbose=1,\n",
    "#                         validation_data=(X_val, y_val_e ))\n",
    "\n",
    "# model.evaluate(X_val, y_val_e)"
   ]
  },
  {
   "cell_type": "markdown",
   "metadata": {},
   "source": [
    "# 마지막 데이터 : Fashion MNIST"
   ]
  },
  {
   "cell_type": "code",
   "execution_count": 312,
   "metadata": {},
   "outputs": [
    {
     "name": "stdout",
     "output_type": "stream",
     "text": [
      "(60000, 28, 28, 1)\n",
      "(10000, 28, 28, 1)\n"
     ]
    }
   ],
   "source": [
    "(X_train, y_train), (X_test, y_test) = fashion_mnist.load_data()\n",
    "X_train = X_train.reshape(60000, 28, 28, 1)\n",
    "X_test = X_test.reshape(10000, 28, 28, 1)\n",
    "\n",
    "y_train_e = to_categorical(y_train)\n",
    "y_test_e = to_categorical(y_test)\n",
    "\n",
    "X_train = X_train / 255\n",
    "X_test = X_test / 255\n",
    "\n",
    "print(X_train.shape)\n",
    "print(X_test.shape)"
   ]
  },
  {
   "cell_type": "code",
   "execution_count": 279,
   "metadata": {},
   "outputs": [
    {
     "data": {
      "text/plain": [
       "<matplotlib.image.AxesImage at 0x289b72573c8>"
      ]
     },
     "execution_count": 279,
     "metadata": {},
     "output_type": "execute_result"
    },
    {
     "data": {
      "image/png": "[encoded data removed]",
      "text/plain": [
       "<Figure size 432x288 with 1 Axes>"
      ]
     },
     "metadata": {
      "needs_background": "light"
     },
     "output_type": "display_data"
    }
   ],
   "source": [
    "# 4차원이니까 2차원으로 reshape해줘야 plt.imshow로 보임\n",
    "plt.imshow(X_train[10].reshape(28, 28), cmap = 'gray')"
   ]
  },
  {
   "cell_type": "markdown",
   "metadata": {},
   "source": [
    "# dropout\n",
    "- 특정 weight(W)를 0 으로 만들어버리겠다."
   ]
  },
  {
   "cell_type": "code",
   "execution_count": 315,
   "metadata": {},
   "outputs": [
    {
     "name": "stdout",
     "output_type": "stream",
     "text": [
      "600/600 [==============================] - 84s 141ms/step - loss: 0.7054 - accuracy: 0.7782\n"
     ]
    }
   ],
   "source": [
    "model = Sequential()\n",
    "\n",
    "model.add(Conv2D(input_shape = (28,28,1), filters = 50, \n",
    "                 kernel_size = (3,3), strides = (1,1), padding = 'same'))\n",
    "\n",
    "model.add(BatchNormalization())\n",
    "model.add(Dropout(0.5)) \n",
    "model.add(Activation('relu'))\n",
    "model.add(MaxPooling2D(pool_size = (2,2)))\n",
    "\n",
    "\n",
    "model.add(Flatten())\n",
    "model.add(Dense(256, activation = 'relu'))\n",
    "model.add(Dropout(0.5)) \n",
    "model.add(Dense(10, activation = 'softmax'))\n",
    "\n",
    "# learning rate , \n",
    "adam = optimizers.Adam(lr = 0.001)\n",
    "model.compile(loss = 'categorical_crossentropy', \n",
    "              optimizer = adam, metrics = ['accuracy'])\n",
    "history = model.fit(X_train, y_train_e, \n",
    "                    batch_size = 100, epochs = 1, verbose = 1)"
   ]
  },
  {
   "cell_type": "code",
   "execution_count": null,
   "metadata": {},
   "outputs": [],
   "source": []
  }
 ],
 "metadata": {
  "kernelspec": {
   "display_name": "Python 3",
   "language": "python",
   "name": "python3"
  },
  "language_info": {
   "codemirror_mode": {
    "name": "ipython",
    "version": 3
   },
   "file_extension": ".py",
   "mimetype": "text/x-python",
   "name": "python",
   "nbconvert_exporter": "python",
   "pygments_lexer": "ipython3",
   "version": "3.7.6"
  },
  "toc": {
   "base_numbering": 1,
   "nav_menu": {},
   "number_sections": false,
   "sideBar": true,
   "skip_h1_title": false,
   "title_cell": "Table of Contents",
   "title_sidebar": "Contents",
   "toc_cell": false,
   "toc_position": {},
   "toc_section_display": true,
   "toc_window_display": false
  }
 },
 "nbformat": 4,
 "nbformat_minor": 4
}
